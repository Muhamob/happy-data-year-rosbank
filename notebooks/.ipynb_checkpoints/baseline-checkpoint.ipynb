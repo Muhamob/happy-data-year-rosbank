{
 "cells": [
  {
   "cell_type": "code",
   "execution_count": 100,
   "metadata": {},
   "outputs": [
    {
     "name": "stdout",
     "output_type": "stream",
     "text": [
      "The autoreload extension is already loaded. To reload it, use:\n",
      "  %reload_ext autoreload\n"
     ]
    }
   ],
   "source": [
    "import pandas as pd\n",
    "import numpy as np\n",
    "from math import sin, cos, sqrt, atan2, radians\n",
    "from tqdm import tqdm\n",
    "from sklearn.neighbors import KNeighborsClassifier\n",
    "from sklearn.metrics import mean_squared_error\n",
    "import lightgbm as lgb\n",
    "from sklearn.model_selection import train_test_split\n",
    "import sys\n",
    "import os\n",
    "import xgboost as xgb\n",
    "from tqdm import tqdm_notebook\n",
    "import matplotlib.pyplot as plt\n",
    "import catboost as cat\n",
    "\n",
    "path = '/home/alexandr/Desktop/study/boosterspro/happy_data_year_rosbank/'\n",
    "sys.path.append(path) if not path in sys.path else None\n",
    "import src.utils as utils\n",
    "from src.model import AveragingModel\n",
    "import src.location_features as lf\n",
    "\n",
    "\n",
    "%load_ext autoreload\n",
    "%autoreload 2"
   ]
  },
  {
   "cell_type": "code",
   "execution_count": 2,
   "metadata": {},
   "outputs": [],
   "source": [
    "def rmse(y_true, y_pred):\n",
    "    return sqrt(mean_squared_error(y_true, y_pred))"
   ]
  },
  {
   "cell_type": "code",
   "execution_count": 3,
   "metadata": {},
   "outputs": [],
   "source": [
    "train = pd.read_csv(path+'data/input/train.csv', index_col=0)"
   ]
  },
  {
   "cell_type": "code",
   "execution_count": 4,
   "metadata": {},
   "outputs": [],
   "source": [
    "test = pd.read_csv(path+'data/input/test.csv', index_col=0)"
   ]
  },
  {
   "cell_type": "code",
   "execution_count": 5,
   "metadata": {},
   "outputs": [],
   "source": [
    "train['isTrain'] = True\n",
    "test['isTrain'] = False"
   ]
  },
  {
   "cell_type": "code",
   "execution_count": 6,
   "metadata": {},
   "outputs": [],
   "source": [
    "X = train.append(test, sort=False)"
   ]
  },
  {
   "cell_type": "code",
   "execution_count": 7,
   "metadata": {},
   "outputs": [
    {
     "data": {
      "text/html": [
       "<div>\n",
       "<style scoped>\n",
       "    .dataframe tbody tr th:only-of-type {\n",
       "        vertical-align: middle;\n",
       "    }\n",
       "\n",
       "    .dataframe tbody tr th {\n",
       "        vertical-align: top;\n",
       "    }\n",
       "\n",
       "    .dataframe thead th {\n",
       "        text-align: right;\n",
       "    }\n",
       "</style>\n",
       "<table border=\"1\" class=\"dataframe\">\n",
       "  <thead>\n",
       "    <tr style=\"text-align: right;\">\n",
       "      <th></th>\n",
       "      <th>count</th>\n",
       "      <th>mean</th>\n",
       "      <th>std</th>\n",
       "      <th>min</th>\n",
       "      <th>25%</th>\n",
       "      <th>50%</th>\n",
       "      <th>75%</th>\n",
       "      <th>max</th>\n",
       "    </tr>\n",
       "  </thead>\n",
       "  <tbody>\n",
       "    <tr>\n",
       "      <th>id</th>\n",
       "      <td>8765.0</td>\n",
       "      <td>4404.586366</td>\n",
       "      <td>2542.532548</td>\n",
       "      <td>1.000000</td>\n",
       "      <td>2207.000000</td>\n",
       "      <td>4403.000000</td>\n",
       "      <td>6603.000000</td>\n",
       "      <td>8811.000000</td>\n",
       "    </tr>\n",
       "    <tr>\n",
       "      <th>atm_group</th>\n",
       "      <td>8765.0</td>\n",
       "      <td>4407.008842</td>\n",
       "      <td>2427.934099</td>\n",
       "      <td>32.000000</td>\n",
       "      <td>1942.000000</td>\n",
       "      <td>5478.000000</td>\n",
       "      <td>5478.000000</td>\n",
       "      <td>8083.000000</td>\n",
       "    </tr>\n",
       "    <tr>\n",
       "      <th>lat</th>\n",
       "      <td>8345.0</td>\n",
       "      <td>54.138304</td>\n",
       "      <td>4.329293</td>\n",
       "      <td>42.057080</td>\n",
       "      <td>52.243997</td>\n",
       "      <td>55.060936</td>\n",
       "      <td>56.116673</td>\n",
       "      <td>69.495093</td>\n",
       "    </tr>\n",
       "    <tr>\n",
       "      <th>long</th>\n",
       "      <td>8345.0</td>\n",
       "      <td>63.500873</td>\n",
       "      <td>32.787366</td>\n",
       "      <td>19.941530</td>\n",
       "      <td>37.851107</td>\n",
       "      <td>49.071694</td>\n",
       "      <td>84.950218</td>\n",
       "      <td>173.706490</td>\n",
       "    </tr>\n",
       "    <tr>\n",
       "      <th>target</th>\n",
       "      <td>6261.0</td>\n",
       "      <td>0.000715</td>\n",
       "      <td>0.085852</td>\n",
       "      <td>-0.145001</td>\n",
       "      <td>-0.061176</td>\n",
       "      <td>-0.015573</td>\n",
       "      <td>0.040149</td>\n",
       "      <td>0.218608</td>\n",
       "    </tr>\n",
       "  </tbody>\n",
       "</table>\n",
       "</div>"
      ],
      "text/plain": [
       "            count         mean          std        min          25%  \\\n",
       "id         8765.0  4404.586366  2542.532548   1.000000  2207.000000   \n",
       "atm_group  8765.0  4407.008842  2427.934099  32.000000  1942.000000   \n",
       "lat        8345.0    54.138304     4.329293  42.057080    52.243997   \n",
       "long       8345.0    63.500873    32.787366  19.941530    37.851107   \n",
       "target     6261.0     0.000715     0.085852  -0.145001    -0.061176   \n",
       "\n",
       "                   50%          75%          max  \n",
       "id         4403.000000  6603.000000  8811.000000  \n",
       "atm_group  5478.000000  5478.000000  8083.000000  \n",
       "lat          55.060936    56.116673    69.495093  \n",
       "long         49.071694    84.950218   173.706490  \n",
       "target       -0.015573     0.040149     0.218608  "
      ]
     },
     "execution_count": 7,
     "metadata": {},
     "output_type": "execute_result"
    }
   ],
   "source": [
    "X.describe().T"
   ]
  },
  {
   "cell_type": "code",
   "execution_count": 8,
   "metadata": {},
   "outputs": [
    {
     "data": {
      "text/html": [
       "<div>\n",
       "<style scoped>\n",
       "    .dataframe tbody tr th:only-of-type {\n",
       "        vertical-align: middle;\n",
       "    }\n",
       "\n",
       "    .dataframe tbody tr th {\n",
       "        vertical-align: top;\n",
       "    }\n",
       "\n",
       "    .dataframe thead th {\n",
       "        text-align: right;\n",
       "    }\n",
       "</style>\n",
       "<table border=\"1\" class=\"dataframe\">\n",
       "  <thead>\n",
       "    <tr style=\"text-align: right;\">\n",
       "      <th></th>\n",
       "      <th>count</th>\n",
       "      <th>unique</th>\n",
       "      <th>top</th>\n",
       "      <th>freq</th>\n",
       "    </tr>\n",
       "  </thead>\n",
       "  <tbody>\n",
       "    <tr>\n",
       "      <th>address</th>\n",
       "      <td>8765</td>\n",
       "      <td>7481</td>\n",
       "      <td>HOROSHEVSKOE SH,V38       MOSKVA</td>\n",
       "      <td>7</td>\n",
       "    </tr>\n",
       "    <tr>\n",
       "      <th>address_rus</th>\n",
       "      <td>8345</td>\n",
       "      <td>6147</td>\n",
       "      <td>квартал В-13, городской округ Волгодонск, Рост...</td>\n",
       "      <td>10</td>\n",
       "    </tr>\n",
       "  </tbody>\n",
       "</table>\n",
       "</div>"
      ],
      "text/plain": [
       "            count unique                                                top  \\\n",
       "address      8765   7481             HOROSHEVSKOE SH,V38       MOSKVA         \n",
       "address_rus  8345   6147  квартал В-13, городской округ Волгодонск, Рост...   \n",
       "\n",
       "            freq  \n",
       "address        7  \n",
       "address_rus   10  "
      ]
     },
     "execution_count": 8,
     "metadata": {},
     "output_type": "execute_result"
    }
   ],
   "source": [
    "X.describe(include='object').T"
   ]
  },
  {
   "cell_type": "markdown",
   "metadata": {},
   "source": [
    "### Количество банкоматов стоящих по одному адресу"
   ]
  },
  {
   "cell_type": "code",
   "execution_count": 9,
   "metadata": {},
   "outputs": [],
   "source": [
    "counts = X.groupby('address_rus')['id'].count().reset_index().rename(columns={'id':'count'})"
   ]
  },
  {
   "cell_type": "code",
   "execution_count": 10,
   "metadata": {},
   "outputs": [],
   "source": [
    "X = pd.merge(X, counts, how='left', on='address_rus')"
   ]
  },
  {
   "cell_type": "code",
   "execution_count": 11,
   "metadata": {},
   "outputs": [
    {
     "data": {
      "text/html": [
       "<div>\n",
       "<style scoped>\n",
       "    .dataframe tbody tr th:only-of-type {\n",
       "        vertical-align: middle;\n",
       "    }\n",
       "\n",
       "    .dataframe tbody tr th {\n",
       "        vertical-align: top;\n",
       "    }\n",
       "\n",
       "    .dataframe thead th {\n",
       "        text-align: right;\n",
       "    }\n",
       "</style>\n",
       "<table border=\"1\" class=\"dataframe\">\n",
       "  <thead>\n",
       "    <tr style=\"text-align: right;\">\n",
       "      <th></th>\n",
       "      <th>id</th>\n",
       "      <th>atm_group</th>\n",
       "      <th>address</th>\n",
       "      <th>address_rus</th>\n",
       "      <th>lat</th>\n",
       "      <th>long</th>\n",
       "      <th>target</th>\n",
       "      <th>isTrain</th>\n",
       "      <th>count</th>\n",
       "    </tr>\n",
       "  </thead>\n",
       "  <tbody>\n",
       "    <tr>\n",
       "      <th>0</th>\n",
       "      <td>8526.0</td>\n",
       "      <td>32.0</td>\n",
       "      <td>EMELYANOVA,34          Y-SAKHALINSK</td>\n",
       "      <td>улица А.О. Емельянова, 34, Южно-Сахалинск, Сах...</td>\n",
       "      <td>46.940995</td>\n",
       "      <td>142.738319</td>\n",
       "      <td>0.011500</td>\n",
       "      <td>True</td>\n",
       "      <td>1.0</td>\n",
       "    </tr>\n",
       "    <tr>\n",
       "      <th>1</th>\n",
       "      <td>8532.0</td>\n",
       "      <td>32.0</td>\n",
       "      <td>KOMSOMOLSKAYA,259B     Y.SAKHALINSK</td>\n",
       "      <td>Комсомольская улица, 259, Южно-Сахалинск, Саха...</td>\n",
       "      <td>46.937353</td>\n",
       "      <td>142.753348</td>\n",
       "      <td>0.029710</td>\n",
       "      <td>True</td>\n",
       "      <td>1.0</td>\n",
       "    </tr>\n",
       "    <tr>\n",
       "      <th>2</th>\n",
       "      <td>8533.0</td>\n",
       "      <td>32.0</td>\n",
       "      <td>KOMMUN. PR., 32        YUZHNO SAKHAL</td>\n",
       "      <td>Коммунистический проспект, Южно-Сахалинск, Сах...</td>\n",
       "      <td>46.959413</td>\n",
       "      <td>142.741113</td>\n",
       "      <td>0.009540</td>\n",
       "      <td>True</td>\n",
       "      <td>1.0</td>\n",
       "    </tr>\n",
       "    <tr>\n",
       "      <th>3</th>\n",
       "      <td>8684.0</td>\n",
       "      <td>32.0</td>\n",
       "      <td>LENINGRADSKIY PR.,76A  MOSCOW</td>\n",
       "      <td>Ленинградский проспект, 76А, Москва, Россия, 1...</td>\n",
       "      <td>55.805827</td>\n",
       "      <td>37.515146</td>\n",
       "      <td>-0.094035</td>\n",
       "      <td>True</td>\n",
       "      <td>1.0</td>\n",
       "    </tr>\n",
       "    <tr>\n",
       "      <th>4</th>\n",
       "      <td>37.0</td>\n",
       "      <td>32.0</td>\n",
       "      <td>GVARDEYSKAYA PL., 2    NORILSK</td>\n",
       "      <td>Гвардейская площадь, 2, Норильск, Красноярский...</td>\n",
       "      <td>69.343541</td>\n",
       "      <td>88.211228</td>\n",
       "      <td>0.079277</td>\n",
       "      <td>True</td>\n",
       "      <td>1.0</td>\n",
       "    </tr>\n",
       "  </tbody>\n",
       "</table>\n",
       "</div>"
      ],
      "text/plain": [
       "       id  atm_group                                 address  \\\n",
       "0  8526.0       32.0  EMELYANOVA,34          Y-SAKHALINSK      \n",
       "1  8532.0       32.0  KOMSOMOLSKAYA,259B     Y.SAKHALINSK      \n",
       "2  8533.0       32.0  KOMMUN. PR., 32        YUZHNO SAKHAL     \n",
       "3  8684.0       32.0  LENINGRADSKIY PR.,76A  MOSCOW            \n",
       "4    37.0       32.0  GVARDEYSKAYA PL., 2    NORILSK           \n",
       "\n",
       "                                         address_rus        lat        long  \\\n",
       "0  улица А.О. Емельянова, 34, Южно-Сахалинск, Сах...  46.940995  142.738319   \n",
       "1  Комсомольская улица, 259, Южно-Сахалинск, Саха...  46.937353  142.753348   \n",
       "2  Коммунистический проспект, Южно-Сахалинск, Сах...  46.959413  142.741113   \n",
       "3  Ленинградский проспект, 76А, Москва, Россия, 1...  55.805827   37.515146   \n",
       "4  Гвардейская площадь, 2, Норильск, Красноярский...  69.343541   88.211228   \n",
       "\n",
       "     target  isTrain  count  \n",
       "0  0.011500     True    1.0  \n",
       "1  0.029710     True    1.0  \n",
       "2  0.009540     True    1.0  \n",
       "3 -0.094035     True    1.0  \n",
       "4  0.079277     True    1.0  "
      ]
     },
     "execution_count": 11,
     "metadata": {},
     "output_type": "execute_result"
    }
   ],
   "source": [
    "X.head()"
   ]
  },
  {
   "cell_type": "markdown",
   "metadata": {},
   "source": [
    "### Расстояния до ближайших банкоматов"
   ]
  },
  {
   "cell_type": "code",
   "execution_count": 12,
   "metadata": {},
   "outputs": [],
   "source": [
    "R = 6373.0 # радиус земли в километрах\n",
    "\n",
    "def distance(x,y):\n",
    "    \"\"\"\n",
    "    Параметры\n",
    "    ----------\n",
    "    x : tuple, широта и долгота первой геокоординаты \n",
    "    y : tuple, широта и долгота второй геокоординаты \n",
    "    \n",
    "    Результат\n",
    "    ----------\n",
    "    result : дистанция в километрах между двумя геокоординатами\n",
    "    \"\"\"\n",
    "    lat_a, long_a, lat_b, long_b = map(radians, [*x,*y])    \n",
    "    dlon = long_b - long_a\n",
    "    dlat = lat_b - lat_a\n",
    "    a = sin(dlat/2)**2 + cos(lat_a) * cos(lat_b) * sin(dlon/2)**2\n",
    "    c = 2 * atan2(sqrt(a), sqrt(1 - a))\n",
    "    return R * c"
   ]
  },
  {
   "cell_type": "code",
   "execution_count": 13,
   "metadata": {},
   "outputs": [],
   "source": [
    "knc = KNeighborsClassifier(metric=distance)"
   ]
  },
  {
   "cell_type": "code",
   "execution_count": 14,
   "metadata": {
    "scrolled": true
   },
   "outputs": [],
   "source": [
    "dots = X[['lat','long']].dropna()"
   ]
  },
  {
   "cell_type": "code",
   "execution_count": 15,
   "metadata": {},
   "outputs": [
    {
     "data": {
      "text/plain": [
       "KNeighborsClassifier(algorithm='auto', leaf_size=30,\n",
       "           metric=<function distance at 0x7ff59f8d3bf8>,\n",
       "           metric_params=None, n_jobs=1, n_neighbors=5, p=2,\n",
       "           weights='uniform')"
      ]
     },
     "execution_count": 15,
     "metadata": {},
     "output_type": "execute_result"
    }
   ],
   "source": [
    "knc.fit(X=dots , y=np.ones(dots.shape[0]))"
   ]
  },
  {
   "cell_type": "code",
   "execution_count": 16,
   "metadata": {},
   "outputs": [],
   "source": [
    "distances, indexes = knc.kneighbors(X=dots,n_neighbors=6,)"
   ]
  },
  {
   "cell_type": "code",
   "execution_count": 17,
   "metadata": {},
   "outputs": [],
   "source": [
    "for i in range(1,6):\n",
    "    dots['distance_%s'%i] = distances[:,i]\n",
    "    dots['indexes_%s'%i] = indexes[:,i]"
   ]
  },
  {
   "cell_type": "code",
   "execution_count": 18,
   "metadata": {},
   "outputs": [],
   "source": [
    "dots['mean'] = dots.iloc[:,dots.columns.str.contains('distance')].mean(axis=1)\n",
    "dots = dots.drop(columns=['lat', 'long'])"
   ]
  },
  {
   "cell_type": "code",
   "execution_count": 19,
   "metadata": {},
   "outputs": [],
   "source": [
    "X = pd.concat([X,dots], axis=1)"
   ]
  },
  {
   "cell_type": "markdown",
   "metadata": {},
   "source": [
    "### Город размещения"
   ]
  },
  {
   "cell_type": "code",
   "execution_count": 20,
   "metadata": {},
   "outputs": [],
   "source": [
    "X['city'] = X[~X.address_rus.isnull()].address_rus.apply(lambda x: x.split(',')[2]) "
   ]
  },
  {
   "cell_type": "code",
   "execution_count": 21,
   "metadata": {},
   "outputs": [],
   "source": [
    "rare_cities = X.city.value_counts()[(X.city.value_counts() < 20) ==True].index"
   ]
  },
  {
   "cell_type": "code",
   "execution_count": 22,
   "metadata": {},
   "outputs": [],
   "source": [
    "X.city = X.city.apply(lambda x: 'RARE' if x in rare_cities else x)"
   ]
  },
  {
   "cell_type": "code",
   "execution_count": 23,
   "metadata": {},
   "outputs": [],
   "source": [
    "X.city= X.city.rank().fillna(-1)"
   ]
  },
  {
   "cell_type": "markdown",
   "metadata": {},
   "source": [
    "## Facilities"
   ]
  },
  {
   "cell_type": "raw",
   "metadata": {},
   "source": [
    "fac = lf.facilities(X[['lat', 'long']].dropna(), 'loc', 2)"
   ]
  },
  {
   "cell_type": "code",
   "execution_count": 31,
   "metadata": {},
   "outputs": [],
   "source": [
    "X['loc_0'] = np.nan\n",
    "X['loc_1'] = np.nan"
   ]
  },
  {
   "cell_type": "code",
   "execution_count": 32,
   "metadata": {},
   "outputs": [],
   "source": [
    "X.loc[np.where(~X.lat.isna())[0], ['loc_0', 'loc_1']] = fac.values"
   ]
  },
  {
   "cell_type": "markdown",
   "metadata": {},
   "source": [
    "## Train / test"
   ]
  },
  {
   "cell_type": "code",
   "execution_count": 77,
   "metadata": {},
   "outputs": [],
   "source": [
    "columns = ['atm_group', 'lat', 'long',  'count', 'distance_1',\n",
    "                    'distance_2',  'distance_3',  'distance_4', 'distance_5',\n",
    "                    'mean', 'city', 'loc_0', 'loc_1']\n",
    "\n",
    "X['atm_group'] = X['atm_group'].astype(int)\n",
    "X['city'] = X['city'].astype(int)\n",
    "\n",
    "X_ = X[X.isTrain][columns]\n",
    "Y_ = X.loc[X.isTrain, 'target']"
   ]
  },
  {
   "cell_type": "raw",
   "metadata": {},
   "source": [
    "X_ = X[X.isTrain][X.columns.difference(\n",
    "    ['id', 'isTrain', 'address', 'address_rus',\n",
    "    'lat', 'long', 'target'])]\n",
    "Y_ = X.loc[X.isTrain, 'target']"
   ]
  },
  {
   "cell_type": "code",
   "execution_count": 78,
   "metadata": {
    "scrolled": true
   },
   "outputs": [],
   "source": [
    "X_train, X_valid, Y_train, Y_valid = train_test_split(X_, Y_, test_size=0.25, random_state=1)"
   ]
  },
  {
   "cell_type": "markdown",
   "metadata": {},
   "source": [
    "## LightGBM"
   ]
  },
  {
   "cell_type": "raw",
   "metadata": {},
   "source": [
    "gbm = lgb.LGBMRegressor(objective = 'regression',  \n",
    "                            max_depth = 3,\n",
    "                            colsample_bytre = 0.8,\n",
    "                            subsample = 0.8, \n",
    "                            learning_rate = 0.1,\n",
    "                            n_estimators = 300)"
   ]
  },
  {
   "cell_type": "raw",
   "metadata": {},
   "source": [
    "gbm.fit(X_train, Y_train, eval_set=[(X_valid, Y_valid)], eval_metric='rmse', early_stopping_rounds=5)"
   ]
  },
  {
   "cell_type": "code",
   "execution_count": 79,
   "metadata": {},
   "outputs": [
    {
     "data": {
      "application/vnd.jupyter.widget-view+json": {
       "model_id": "12ff03d23cfe47f0a55dbf9fddf0ab40",
       "version_major": 2,
       "version_minor": 0
      },
      "text/plain": [
       "HBox(children=(IntProgress(value=0, max=9), HTML(value='')))"
      ]
     },
     "metadata": {},
     "output_type": "display_data"
    },
    {
     "name": "stderr",
     "output_type": "stream",
     "text": [
      "/home/alexandr/anaconda3/lib/python3.6/site-packages/lightgbm/engine.py:113: UserWarning: Found `num_iterations` in params. Will use it instead of argument\n",
      "  warnings.warn(\"Found `{}` in params. Will use it instead of argument\".format(alias))\n"
     ]
    },
    {
     "name": "stdout",
     "output_type": "stream",
     "text": [
      "[1]\tvalid_0's rmse: 0.0793443\tvalid_0's l2: 0.00629551\n",
      "Training until validation scores don't improve for 5 rounds.\n",
      "[2]\tvalid_0's rmse: 0.0747681\tvalid_0's l2: 0.00559027\n",
      "[3]\tvalid_0's rmse: 0.0708348\tvalid_0's l2: 0.00501757\n",
      "[4]\tvalid_0's rmse: 0.0674939\tvalid_0's l2: 0.00455543\n",
      "[5]\tvalid_0's rmse: 0.0646512\tvalid_0's l2: 0.00417978\n",
      "[6]\tvalid_0's rmse: 0.0622181\tvalid_0's l2: 0.00387109\n",
      "[7]\tvalid_0's rmse: 0.0601667\tvalid_0's l2: 0.00362003\n",
      "[8]\tvalid_0's rmse: 0.0581957\tvalid_0's l2: 0.00338674\n",
      "[9]\tvalid_0's rmse: 0.0567028\tvalid_0's l2: 0.00321521\n",
      "[10]\tvalid_0's rmse: 0.0554994\tvalid_0's l2: 0.00308018\n",
      "[11]\tvalid_0's rmse: 0.0542583\tvalid_0's l2: 0.00294396\n",
      "[12]\tvalid_0's rmse: 0.0533644\tvalid_0's l2: 0.00284776\n",
      "[13]\tvalid_0's rmse: 0.0526106\tvalid_0's l2: 0.00276787\n",
      "[14]\tvalid_0's rmse: 0.0518246\tvalid_0's l2: 0.00268578\n",
      "[15]\tvalid_0's rmse: 0.0512837\tvalid_0's l2: 0.00263002\n",
      "[16]\tvalid_0's rmse: 0.0508203\tvalid_0's l2: 0.0025827\n",
      "[17]\tvalid_0's rmse: 0.0503147\tvalid_0's l2: 0.00253157\n",
      "[18]\tvalid_0's rmse: 0.0499942\tvalid_0's l2: 0.00249942\n",
      "[19]\tvalid_0's rmse: 0.049736\tvalid_0's l2: 0.00247367\n",
      "[20]\tvalid_0's rmse: 0.0494876\tvalid_0's l2: 0.00244902\n",
      "[21]\tvalid_0's rmse: 0.0492736\tvalid_0's l2: 0.00242789\n",
      "[22]\tvalid_0's rmse: 0.0490769\tvalid_0's l2: 0.00240854\n",
      "[23]\tvalid_0's rmse: 0.048939\tvalid_0's l2: 0.00239503\n",
      "[24]\tvalid_0's rmse: 0.0487879\tvalid_0's l2: 0.00238026\n",
      "[25]\tvalid_0's rmse: 0.0486575\tvalid_0's l2: 0.00236755\n",
      "[26]\tvalid_0's rmse: 0.0485228\tvalid_0's l2: 0.00235446\n",
      "[27]\tvalid_0's rmse: 0.0483683\tvalid_0's l2: 0.0023395\n",
      "[28]\tvalid_0's rmse: 0.048249\tvalid_0's l2: 0.00232797\n",
      "[29]\tvalid_0's rmse: 0.0481457\tvalid_0's l2: 0.00231801\n",
      "[30]\tvalid_0's rmse: 0.0479877\tvalid_0's l2: 0.00230282\n",
      "[31]\tvalid_0's rmse: 0.0479001\tvalid_0's l2: 0.00229442\n",
      "[32]\tvalid_0's rmse: 0.0478005\tvalid_0's l2: 0.00228489\n",
      "[33]\tvalid_0's rmse: 0.0477144\tvalid_0's l2: 0.00227666\n",
      "[34]\tvalid_0's rmse: 0.047674\tvalid_0's l2: 0.00227281\n",
      "[35]\tvalid_0's rmse: 0.0475983\tvalid_0's l2: 0.00226559\n",
      "[36]\tvalid_0's rmse: 0.0475008\tvalid_0's l2: 0.00225633\n",
      "[37]\tvalid_0's rmse: 0.0474429\tvalid_0's l2: 0.00225083\n",
      "[38]\tvalid_0's rmse: 0.0473909\tvalid_0's l2: 0.00224589\n",
      "[39]\tvalid_0's rmse: 0.04733\tvalid_0's l2: 0.00224013\n",
      "[40]\tvalid_0's rmse: 0.047283\tvalid_0's l2: 0.00223568\n",
      "[41]\tvalid_0's rmse: 0.0472319\tvalid_0's l2: 0.00223085\n",
      "[42]\tvalid_0's rmse: 0.0471814\tvalid_0's l2: 0.00222608\n",
      "[43]\tvalid_0's rmse: 0.0471399\tvalid_0's l2: 0.00222217\n",
      "[44]\tvalid_0's rmse: 0.047114\tvalid_0's l2: 0.00221973\n",
      "[45]\tvalid_0's rmse: 0.0470623\tvalid_0's l2: 0.00221486\n",
      "[46]\tvalid_0's rmse: 0.0470555\tvalid_0's l2: 0.00221422\n",
      "[47]\tvalid_0's rmse: 0.0470205\tvalid_0's l2: 0.00221093\n",
      "[48]\tvalid_0's rmse: 0.0469892\tvalid_0's l2: 0.00220799\n",
      "[49]\tvalid_0's rmse: 0.0469584\tvalid_0's l2: 0.00220509\n",
      "[50]\tvalid_0's rmse: 0.0469253\tvalid_0's l2: 0.00220198\n",
      "[51]\tvalid_0's rmse: 0.0469164\tvalid_0's l2: 0.00220115\n",
      "[52]\tvalid_0's rmse: 0.0468728\tvalid_0's l2: 0.00219706\n",
      "[53]\tvalid_0's rmse: 0.0468502\tvalid_0's l2: 0.00219494\n",
      "[54]\tvalid_0's rmse: 0.0468272\tvalid_0's l2: 0.00219279\n",
      "[55]\tvalid_0's rmse: 0.0467957\tvalid_0's l2: 0.00218984\n",
      "[56]\tvalid_0's rmse: 0.0467768\tvalid_0's l2: 0.00218807\n",
      "[57]\tvalid_0's rmse: 0.0467649\tvalid_0's l2: 0.00218696\n",
      "[58]\tvalid_0's rmse: 0.0467133\tvalid_0's l2: 0.00218213\n",
      "[59]\tvalid_0's rmse: 0.0466848\tvalid_0's l2: 0.00217947\n",
      "[60]\tvalid_0's rmse: 0.0466389\tvalid_0's l2: 0.00217519\n",
      "[61]\tvalid_0's rmse: 0.0466242\tvalid_0's l2: 0.00217382\n",
      "[62]\tvalid_0's rmse: 0.0465996\tvalid_0's l2: 0.00217152\n",
      "[63]\tvalid_0's rmse: 0.0466004\tvalid_0's l2: 0.0021716\n",
      "[64]\tvalid_0's rmse: 0.0465741\tvalid_0's l2: 0.00216915\n",
      "[65]\tvalid_0's rmse: 0.046582\tvalid_0's l2: 0.00216989\n",
      "[66]\tvalid_0's rmse: 0.0465721\tvalid_0's l2: 0.00216896\n",
      "[67]\tvalid_0's rmse: 0.0465336\tvalid_0's l2: 0.00216537\n",
      "[68]\tvalid_0's rmse: 0.0465326\tvalid_0's l2: 0.00216529\n",
      "[69]\tvalid_0's rmse: 0.0464904\tvalid_0's l2: 0.00216136\n",
      "[70]\tvalid_0's rmse: 0.0464974\tvalid_0's l2: 0.00216201\n",
      "[71]\tvalid_0's rmse: 0.0464918\tvalid_0's l2: 0.00216148\n",
      "[72]\tvalid_0's rmse: 0.0464743\tvalid_0's l2: 0.00215986\n",
      "[73]\tvalid_0's rmse: 0.0464379\tvalid_0's l2: 0.00215648\n",
      "[74]\tvalid_0's rmse: 0.0464192\tvalid_0's l2: 0.00215474\n",
      "[75]\tvalid_0's rmse: 0.0464048\tvalid_0's l2: 0.00215341\n",
      "[76]\tvalid_0's rmse: 0.046362\tvalid_0's l2: 0.00214944\n",
      "[77]\tvalid_0's rmse: 0.0463442\tvalid_0's l2: 0.00214778\n",
      "[78]\tvalid_0's rmse: 0.0463247\tvalid_0's l2: 0.00214598\n",
      "[79]\tvalid_0's rmse: 0.0463175\tvalid_0's l2: 0.00214531\n",
      "[80]\tvalid_0's rmse: 0.0463087\tvalid_0's l2: 0.00214449\n",
      "[81]\tvalid_0's rmse: 0.0463005\tvalid_0's l2: 0.00214374\n",
      "[82]\tvalid_0's rmse: 0.046262\tvalid_0's l2: 0.00214017\n",
      "[83]\tvalid_0's rmse: 0.046241\tvalid_0's l2: 0.00213823\n",
      "[84]\tvalid_0's rmse: 0.0462328\tvalid_0's l2: 0.00213747\n",
      "[85]\tvalid_0's rmse: 0.0462362\tvalid_0's l2: 0.00213779\n",
      "[86]\tvalid_0's rmse: 0.0462249\tvalid_0's l2: 0.00213675\n",
      "[87]\tvalid_0's rmse: 0.0462253\tvalid_0's l2: 0.00213678\n",
      "[88]\tvalid_0's rmse: 0.0462211\tvalid_0's l2: 0.00213639\n",
      "[89]\tvalid_0's rmse: 0.0461982\tvalid_0's l2: 0.00213427\n",
      "[90]\tvalid_0's rmse: 0.0462051\tvalid_0's l2: 0.00213491\n",
      "[91]\tvalid_0's rmse: 0.0461858\tvalid_0's l2: 0.00213312\n",
      "[92]\tvalid_0's rmse: 0.0461809\tvalid_0's l2: 0.00213268\n",
      "[93]\tvalid_0's rmse: 0.0461828\tvalid_0's l2: 0.00213285\n",
      "[94]\tvalid_0's rmse: 0.0461706\tvalid_0's l2: 0.00213172\n",
      "[95]\tvalid_0's rmse: 0.0461675\tvalid_0's l2: 0.00213144\n",
      "[96]\tvalid_0's rmse: 0.0461572\tvalid_0's l2: 0.00213049\n",
      "[97]\tvalid_0's rmse: 0.046158\tvalid_0's l2: 0.00213056\n",
      "[98]\tvalid_0's rmse: 0.046153\tvalid_0's l2: 0.0021301\n",
      "[99]\tvalid_0's rmse: 0.0461607\tvalid_0's l2: 0.00213081\n",
      "[100]\tvalid_0's rmse: 0.0461688\tvalid_0's l2: 0.00213156\n",
      "[101]\tvalid_0's rmse: 0.046142\tvalid_0's l2: 0.00212908\n",
      "[102]\tvalid_0's rmse: 0.0461449\tvalid_0's l2: 0.00212935\n",
      "[103]\tvalid_0's rmse: 0.0461558\tvalid_0's l2: 0.00213035\n",
      "[104]\tvalid_0's rmse: 0.0461591\tvalid_0's l2: 0.00213067\n",
      "[105]\tvalid_0's rmse: 0.0461554\tvalid_0's l2: 0.00213032\n",
      "[106]\tvalid_0's rmse: 0.0461378\tvalid_0's l2: 0.00212869\n",
      "[107]\tvalid_0's rmse: 0.0461226\tvalid_0's l2: 0.0021273\n",
      "[108]\tvalid_0's rmse: 0.046131\tvalid_0's l2: 0.00212807\n",
      "[109]\tvalid_0's rmse: 0.0461424\tvalid_0's l2: 0.00212912\n",
      "[110]\tvalid_0's rmse: 0.0461392\tvalid_0's l2: 0.00212882\n",
      "[111]\tvalid_0's rmse: 0.0461397\tvalid_0's l2: 0.00212887\n",
      "[112]\tvalid_0's rmse: 0.0461355\tvalid_0's l2: 0.00212848\n",
      "Early stopping, best iteration is:\n",
      "[107]\tvalid_0's rmse: 0.0461226\tvalid_0's l2: 0.0021273\n",
      "[1]\tvalid_0's rmse: 0.0791397\tvalid_0's l2: 0.00626309\n",
      "Training until validation scores don't improve for 5 rounds.\n",
      "[2]\tvalid_0's rmse: 0.0743821\tvalid_0's l2: 0.0055327\n",
      "[3]\tvalid_0's rmse: 0.0702731\tvalid_0's l2: 0.00493831\n",
      "[4]\tvalid_0's rmse: 0.0666669\tvalid_0's l2: 0.00444447\n",
      "[5]\tvalid_0's rmse: 0.0636901\tvalid_0's l2: 0.00405643\n",
      "[6]\tvalid_0's rmse: 0.0610386\tvalid_0's l2: 0.00372571\n",
      "[7]\tvalid_0's rmse: 0.0588666\tvalid_0's l2: 0.00346527\n",
      "[8]\tvalid_0's rmse: 0.0570169\tvalid_0's l2: 0.00325093\n",
      "[9]\tvalid_0's rmse: 0.0554905\tvalid_0's l2: 0.00307919\n",
      "[10]\tvalid_0's rmse: 0.0542037\tvalid_0's l2: 0.00293804\n",
      "[11]\tvalid_0's rmse: 0.0530144\tvalid_0's l2: 0.00281053\n",
      "[12]\tvalid_0's rmse: 0.0520155\tvalid_0's l2: 0.00270561\n",
      "[13]\tvalid_0's rmse: 0.0511515\tvalid_0's l2: 0.00261647\n",
      "[14]\tvalid_0's rmse: 0.0505072\tvalid_0's l2: 0.00255098\n",
      "[15]\tvalid_0's rmse: 0.0499811\tvalid_0's l2: 0.00249811\n",
      "[16]\tvalid_0's rmse: 0.0495227\tvalid_0's l2: 0.0024525\n",
      "[17]\tvalid_0's rmse: 0.048997\tvalid_0's l2: 0.00240071\n",
      "[18]\tvalid_0's rmse: 0.0486293\tvalid_0's l2: 0.0023648\n",
      "[19]\tvalid_0's rmse: 0.0482734\tvalid_0's l2: 0.00233032\n",
      "[20]\tvalid_0's rmse: 0.0479622\tvalid_0's l2: 0.00230037\n",
      "[21]\tvalid_0's rmse: 0.0477549\tvalid_0's l2: 0.00228053\n",
      "[22]\tvalid_0's rmse: 0.047554\tvalid_0's l2: 0.00226139\n",
      "[23]\tvalid_0's rmse: 0.0473252\tvalid_0's l2: 0.00223968\n",
      "[24]\tvalid_0's rmse: 0.0471293\tvalid_0's l2: 0.00222117\n",
      "[25]\tvalid_0's rmse: 0.0470096\tvalid_0's l2: 0.0022099\n",
      "[26]\tvalid_0's rmse: 0.046884\tvalid_0's l2: 0.00219811\n",
      "[27]\tvalid_0's rmse: 0.046776\tvalid_0's l2: 0.002188\n",
      "[28]\tvalid_0's rmse: 0.0466572\tvalid_0's l2: 0.00217689\n",
      "[29]\tvalid_0's rmse: 0.0466444\tvalid_0's l2: 0.0021757\n",
      "[30]\tvalid_0's rmse: 0.0465784\tvalid_0's l2: 0.00216955\n",
      "[31]\tvalid_0's rmse: 0.0465399\tvalid_0's l2: 0.00216596\n",
      "[32]\tvalid_0's rmse: 0.0464652\tvalid_0's l2: 0.00215901\n",
      "[33]\tvalid_0's rmse: 0.0464292\tvalid_0's l2: 0.00215567\n"
     ]
    },
    {
     "name": "stderr",
     "output_type": "stream",
     "text": [
      "/home/alexandr/anaconda3/lib/python3.6/site-packages/lightgbm/engine.py:113: UserWarning: Found `num_iterations` in params. Will use it instead of argument\n",
      "  warnings.warn(\"Found `{}` in params. Will use it instead of argument\".format(alias))\n"
     ]
    },
    {
     "name": "stdout",
     "output_type": "stream",
     "text": [
      "[34]\tvalid_0's rmse: 0.046379\tvalid_0's l2: 0.00215101\n",
      "[35]\tvalid_0's rmse: 0.0463881\tvalid_0's l2: 0.00215186\n",
      "[36]\tvalid_0's rmse: 0.0463041\tvalid_0's l2: 0.00214407\n",
      "[37]\tvalid_0's rmse: 0.0462856\tvalid_0's l2: 0.00214235\n",
      "[38]\tvalid_0's rmse: 0.0462395\tvalid_0's l2: 0.00213809\n",
      "[39]\tvalid_0's rmse: 0.0462017\tvalid_0's l2: 0.00213459\n",
      "[40]\tvalid_0's rmse: 0.0461477\tvalid_0's l2: 0.00212961\n",
      "[41]\tvalid_0's rmse: 0.0461391\tvalid_0's l2: 0.00212881\n",
      "[42]\tvalid_0's rmse: 0.0461072\tvalid_0's l2: 0.00212588\n",
      "[43]\tvalid_0's rmse: 0.0460725\tvalid_0's l2: 0.00212267\n",
      "[44]\tvalid_0's rmse: 0.0460592\tvalid_0's l2: 0.00212145\n",
      "[45]\tvalid_0's rmse: 0.0460422\tvalid_0's l2: 0.00211988\n",
      "[46]\tvalid_0's rmse: 0.0460562\tvalid_0's l2: 0.00212117\n",
      "[47]\tvalid_0's rmse: 0.0460046\tvalid_0's l2: 0.00211642\n",
      "[48]\tvalid_0's rmse: 0.0459683\tvalid_0's l2: 0.00211308\n",
      "[49]\tvalid_0's rmse: 0.0459126\tvalid_0's l2: 0.00210797\n",
      "[50]\tvalid_0's rmse: 0.0459059\tvalid_0's l2: 0.00210735\n",
      "[51]\tvalid_0's rmse: 0.0459153\tvalid_0's l2: 0.00210821\n",
      "[52]\tvalid_0's rmse: 0.0459091\tvalid_0's l2: 0.00210765\n",
      "[53]\tvalid_0's rmse: 0.0459097\tvalid_0's l2: 0.0021077\n",
      "[54]\tvalid_0's rmse: 0.0459266\tvalid_0's l2: 0.00210926\n",
      "[55]\tvalid_0's rmse: 0.0459334\tvalid_0's l2: 0.00210988\n",
      "Early stopping, best iteration is:\n",
      "[50]\tvalid_0's rmse: 0.0459059\tvalid_0's l2: 0.00210735\n",
      "[1]\tvalid_0's rmse: 0.0790208\tvalid_0's l2: 0.00624429\n",
      "Training until validation scores don't improve for 5 rounds.\n",
      "[2]\tvalid_0's rmse: 0.0741271\tvalid_0's l2: 0.00549483\n",
      "[3]\tvalid_0's rmse: 0.0699072\tvalid_0's l2: 0.00488702\n",
      "[4]\tvalid_0's rmse: 0.0663188\tvalid_0's l2: 0.00439818\n",
      "[5]\tvalid_0's rmse: 0.0632346\tvalid_0's l2: 0.00399861\n",
      "[6]\tvalid_0's rmse: 0.0605467\tvalid_0's l2: 0.0036659\n",
      "[7]\tvalid_0's rmse: 0.0582918\tvalid_0's l2: 0.00339793\n",
      "[8]\tvalid_0's rmse: 0.0562938\tvalid_0's l2: 0.003169\n",
      "[9]\tvalid_0's rmse: 0.0546726\tvalid_0's l2: 0.00298909\n",
      "[10]\tvalid_0's rmse: 0.0532578\tvalid_0's l2: 0.00283639\n",
      "[11]\tvalid_0's rmse: 0.0520516\tvalid_0's l2: 0.00270936\n",
      "[12]\tvalid_0's rmse: 0.0511319\tvalid_0's l2: 0.00261447\n",
      "[13]\tvalid_0's rmse: 0.0503527\tvalid_0's l2: 0.0025354\n",
      "[14]\tvalid_0's rmse: 0.0495964\tvalid_0's l2: 0.00245981\n",
      "[15]\tvalid_0's rmse: 0.0490463\tvalid_0's l2: 0.00240554\n",
      "[16]\tvalid_0's rmse: 0.0485057\tvalid_0's l2: 0.0023528\n",
      "[17]\tvalid_0's rmse: 0.0481834\tvalid_0's l2: 0.00232164\n",
      "[18]\tvalid_0's rmse: 0.0478084\tvalid_0's l2: 0.00228565\n",
      "[19]\tvalid_0's rmse: 0.0474853\tvalid_0's l2: 0.00225485"
     ]
    },
    {
     "name": "stderr",
     "output_type": "stream",
     "text": [
      "/home/alexandr/anaconda3/lib/python3.6/site-packages/lightgbm/engine.py:113: UserWarning: Found `num_iterations` in params. Will use it instead of argument\n",
      "  warnings.warn(\"Found `{}` in params. Will use it instead of argument\".format(alias))\n"
     ]
    },
    {
     "name": "stdout",
     "output_type": "stream",
     "text": [
      "\n",
      "[20]\tvalid_0's rmse: 0.0472575\tvalid_0's l2: 0.00223327\n",
      "[21]\tvalid_0's rmse: 0.0470222\tvalid_0's l2: 0.00221109\n",
      "[22]\tvalid_0's rmse: 0.0468458\tvalid_0's l2: 0.00219453\n",
      "[23]\tvalid_0's rmse: 0.0466938\tvalid_0's l2: 0.00218031\n",
      "[24]\tvalid_0's rmse: 0.0465361\tvalid_0's l2: 0.00216561\n",
      "[25]\tvalid_0's rmse: 0.0464272\tvalid_0's l2: 0.00215549\n",
      "[26]\tvalid_0's rmse: 0.0463215\tvalid_0's l2: 0.00214569\n",
      "[27]\tvalid_0's rmse: 0.0462356\tvalid_0's l2: 0.00213773\n",
      "[28]\tvalid_0's rmse: 0.0461881\tvalid_0's l2: 0.00213334\n",
      "[29]\tvalid_0's rmse: 0.0461762\tvalid_0's l2: 0.00213225\n",
      "[30]\tvalid_0's rmse: 0.0461531\tvalid_0's l2: 0.00213011\n",
      "[31]\tvalid_0's rmse: 0.0461198\tvalid_0's l2: 0.00212703\n",
      "[32]\tvalid_0's rmse: 0.0461168\tvalid_0's l2: 0.00212676\n",
      "[33]\tvalid_0's rmse: 0.0460724\tvalid_0's l2: 0.00212267\n",
      "[34]\tvalid_0's rmse: 0.0460279\tvalid_0's l2: 0.00211857\n",
      "[35]\tvalid_0's rmse: 0.0459896\tvalid_0's l2: 0.00211504\n",
      "[36]\tvalid_0's rmse: 0.045972\tvalid_0's l2: 0.00211342\n",
      "[37]\tvalid_0's rmse: 0.0459534\tvalid_0's l2: 0.00211171\n",
      "[38]\tvalid_0's rmse: 0.0459458\tvalid_0's l2: 0.00211101\n",
      "[39]\tvalid_0's rmse: 0.0458962\tvalid_0's l2: 0.00210646\n",
      "[40]\tvalid_0's rmse: 0.0458592\tvalid_0's l2: 0.00210307\n",
      "[41]\tvalid_0's rmse: 0.0458376\tvalid_0's l2: 0.00210108\n",
      "[42]\tvalid_0's rmse: 0.0458068\tvalid_0's l2: 0.00209826\n",
      "[43]\tvalid_0's rmse: 0.0457707\tvalid_0's l2: 0.00209495\n",
      "[44]\tvalid_0's rmse: 0.045753\tvalid_0's l2: 0.00209334\n",
      "[45]\tvalid_0's rmse: 0.0457516\tvalid_0's l2: 0.00209321\n",
      "[46]\tvalid_0's rmse: 0.0457314\tvalid_0's l2: 0.00209136\n",
      "[47]\tvalid_0's rmse: 0.0457441\tvalid_0's l2: 0.00209252\n",
      "[48]\tvalid_0's rmse: 0.0457109\tvalid_0's l2: 0.00208949\n",
      "[49]\tvalid_0's rmse: 0.0456873\tvalid_0's l2: 0.00208733\n",
      "[50]\tvalid_0's rmse: 0.0456707\tvalid_0's l2: 0.00208581\n",
      "[51]\tvalid_0's rmse: 0.0456777\tvalid_0's l2: 0.00208645\n",
      "[52]\tvalid_0's rmse: 0.0456891\tvalid_0's l2: 0.00208749\n",
      "[53]\tvalid_0's rmse: 0.0456867\tvalid_0's l2: 0.00208727\n",
      "[54]\tvalid_0's rmse: 0.0456611\tvalid_0's l2: 0.00208494\n",
      "[55]\tvalid_0's rmse: 0.0456541\tvalid_0's l2: 0.0020843\n",
      "[56]\tvalid_0's rmse: 0.0456735\tvalid_0's l2: 0.00208607\n",
      "[57]\tvalid_0's rmse: 0.0456664\tvalid_0's l2: 0.00208542\n",
      "[58]\tvalid_0's rmse: 0.0456631\tvalid_0's l2: 0.00208511\n",
      "[59]\tvalid_0's rmse: 0.0456476\tvalid_0's l2: 0.0020837\n",
      "[60]\tvalid_0's rmse: 0.0456479\tvalid_0's l2: 0.00208374\n",
      "[61]\tvalid_0's rmse: 0.0456256\tvalid_0's l2: 0.0020817\n",
      "[62]\tvalid_0's rmse: 0.045625\tvalid_0's l2: 0.00208164\n",
      "[63]\tvalid_0's rmse: 0.0456208\tvalid_0's l2: 0.00208126\n",
      "[64]\tvalid_0's rmse: 0.0456265\tvalid_0's l2: 0.00208178\n",
      "[65]\tvalid_0's rmse: 0.0456267\tvalid_0's l2: 0.00208179\n",
      "[66]\tvalid_0's rmse: 0.0456034\tvalid_0's l2: 0.00207967\n",
      "[67]\tvalid_0's rmse: 0.0455926\tvalid_0's l2: 0.00207868\n",
      "[68]\tvalid_0's rmse: 0.0455882\tvalid_0's l2: 0.00207828\n",
      "[69]\tvalid_0's rmse: 0.0455995\tvalid_0's l2: 0.00207932\n",
      "[70]\tvalid_0's rmse: 0.0455998\tvalid_0's l2: 0.00207934\n",
      "[71]\tvalid_0's rmse: 0.0455861\tvalid_0's l2: 0.00207809\n",
      "[72]\tvalid_0's rmse: 0.045596\tvalid_0's l2: 0.00207899\n",
      "[73]\tvalid_0's rmse: 0.0456143\tvalid_0's l2: 0.00208066\n",
      "[74]\tvalid_0's rmse: 0.0455991\tvalid_0's l2: 0.00207928\n",
      "[75]\tvalid_0's rmse: 0.0455998\tvalid_0's l2: 0.00207934\n",
      "[76]\tvalid_0's rmse: 0.0455801\tvalid_0's l2: 0.00207755\n",
      "[77]\tvalid_0's rmse: 0.0455406\tvalid_0's l2: 0.00207394\n",
      "[78]\tvalid_0's rmse: 0.0455295\tvalid_0's l2: 0.00207294\n",
      "[79]\tvalid_0's rmse: 0.0455143\tvalid_0's l2: 0.00207155\n",
      "[80]\tvalid_0's rmse: 0.0455099\tvalid_0's l2: 0.00207115\n",
      "[81]\tvalid_0's rmse: 0.0455205\tvalid_0's l2: 0.00207211\n",
      "[82]\tvalid_0's rmse: 0.045531\tvalid_0's l2: 0.00207307\n",
      "[83]\tvalid_0's rmse: 0.0455255\tvalid_0's l2: 0.00207257\n",
      "[84]\tvalid_0's rmse: 0.0455282\tvalid_0's l2: 0.00207282\n",
      "[85]\tvalid_0's rmse: 0.0455421\tvalid_0's l2: 0.00207409\n",
      "Early stopping, best iteration is:\n",
      "[80]\tvalid_0's rmse: 0.0455099\tvalid_0's l2: 0.00207115\n"
     ]
    },
    {
     "name": "stderr",
     "output_type": "stream",
     "text": [
      "/home/alexandr/anaconda3/lib/python3.6/site-packages/lightgbm/engine.py:113: UserWarning: Found `num_iterations` in params. Will use it instead of argument\n",
      "  warnings.warn(\"Found `{}` in params. Will use it instead of argument\".format(alias))\n"
     ]
    },
    {
     "name": "stdout",
     "output_type": "stream",
     "text": [
      "[1]\tvalid_0's rmse: 0.0788157\tvalid_0's l2: 0.00621191\n",
      "Training until validation scores don't improve for 5 rounds.\n",
      "[2]\tvalid_0's rmse: 0.0737909\tvalid_0's l2: 0.0054451\n",
      "[3]\tvalid_0's rmse: 0.0695215\tvalid_0's l2: 0.00483324\n",
      "[4]\tvalid_0's rmse: 0.065865\tvalid_0's l2: 0.0043382\n",
      "[5]\tvalid_0's rmse: 0.0627785\tvalid_0's l2: 0.00394114\n",
      "[6]\tvalid_0's rmse: 0.0601245\tvalid_0's l2: 0.00361496\n",
      "[7]\tvalid_0's rmse: 0.0578275\tvalid_0's l2: 0.00334402\n",
      "[8]\tvalid_0's rmse: 0.0558193\tvalid_0's l2: 0.0031158\n",
      "[9]\tvalid_0's rmse: 0.0542562\tvalid_0's l2: 0.00294373\n",
      "[10]\tvalid_0's rmse: 0.0528496\tvalid_0's l2: 0.00279308\n",
      "[11]\tvalid_0's rmse: 0.0517253\tvalid_0's l2: 0.00267551\n",
      "[12]\tvalid_0's rmse: 0.0507536\tvalid_0's l2: 0.00257593\n",
      "[13]\tvalid_0's rmse: 0.0499333\tvalid_0's l2: 0.00249333\n",
      "[14]\tvalid_0's rmse: 0.0492345\tvalid_0's l2: 0.00242403\n",
      "[15]\tvalid_0's rmse: 0.0486813\tvalid_0's l2: 0.00236987\n",
      "[16]\tvalid_0's rmse: 0.048123\tvalid_0's l2: 0.00231583\n",
      "[17]\tvalid_0's rmse: 0.0477034\tvalid_0's l2: 0.00227562\n",
      "[18]\tvalid_0's rmse: 0.0473622\tvalid_0's l2: 0.00224318\n",
      "[19]\tvalid_0's rmse: 0.0471372\tvalid_0's l2: 0.00222192\n",
      "[20]\tvalid_0's rmse: 0.0468781\tvalid_0's l2: 0.00219755\n",
      "[21]\tvalid_0's rmse: 0.046704\tvalid_0's l2: 0.00218126\n",
      "[22]\tvalid_0's rmse: 0.0465325\tvalid_0's l2: 0.00216527\n",
      "[23]\tvalid_0's rmse: 0.0464575\tvalid_0's l2: 0.0021583\n",
      "[24]\tvalid_0's rmse: 0.0463245\tvalid_0's l2: 0.00214596\n",
      "[25]\tvalid_0's rmse: 0.0461939\tvalid_0's l2: 0.00213387\n",
      "[26]\tvalid_0's rmse: 0.0461364\tvalid_0's l2: 0.00212856\n",
      "[27]\tvalid_0's rmse: 0.0460634\tvalid_0's l2: 0.00212183\n",
      "[28]\tvalid_0's rmse: 0.045986\tvalid_0's l2: 0.00211471\n",
      "[29]\tvalid_0's rmse: 0.045937\tvalid_0's l2: 0.0021102\n",
      "[30]\tvalid_0's rmse: 0.0459072\tvalid_0's l2: 0.00210747\n",
      "[31]\tvalid_0's rmse: 0.0458671\tvalid_0's l2: 0.00210379\n",
      "[32]\tvalid_0's rmse: 0.0458522\tvalid_0's l2: 0.00210242\n",
      "[33]\tvalid_0's rmse: 0.0457997\tvalid_0's l2: 0.00209761\n",
      "[34]\tvalid_0's rmse: 0.0457942\tvalid_0's l2: 0.00209711\n",
      "[35]\tvalid_0's rmse: 0.0457784\tvalid_0's l2: 0.00209566\n",
      "[36]\tvalid_0's rmse: 0.0457855\tvalid_0's l2: 0.00209631\n",
      "[37]\tvalid_0's rmse: 0.0457874\tvalid_0's l2: 0.00209649\n",
      "[38]\tvalid_0's rmse: 0.0458054\tvalid_0's l2: 0.00209813\n",
      "[39]\tvalid_0's rmse: 0.0458116\tvalid_0's l2: 0.00209871\n",
      "[40]\tvalid_0's rmse: 0.0457858\tvalid_0's l2: 0.00209634\n",
      "Early stopping, best iteration is:\n",
      "[35]\tvalid_0's rmse: 0.0457784\tvalid_0's l2: 0.00209566\n"
     ]
    },
    {
     "name": "stderr",
     "output_type": "stream",
     "text": [
      "/home/alexandr/anaconda3/lib/python3.6/site-packages/lightgbm/engine.py:113: UserWarning: Found `num_iterations` in params. Will use it instead of argument\n",
      "  warnings.warn(\"Found `{}` in params. Will use it instead of argument\".format(alias))\n"
     ]
    },
    {
     "name": "stdout",
     "output_type": "stream",
     "text": [
      "[1]\tvalid_0's rmse: 0.0787522\tvalid_0's l2: 0.00620191\n",
      "Training until validation scores don't improve for 5 rounds.\n",
      "[2]\tvalid_0's rmse: 0.073684\tvalid_0's l2: 0.00542934\n",
      "[3]\tvalid_0's rmse: 0.0693068\tvalid_0's l2: 0.00480343\n",
      "[4]\tvalid_0's rmse: 0.0654986\tvalid_0's l2: 0.00429007\n",
      "[5]\tvalid_0's rmse: 0.062282\tvalid_0's l2: 0.00387905\n",
      "[6]\tvalid_0's rmse: 0.0595601\tvalid_0's l2: 0.00354741\n",
      "[7]\tvalid_0's rmse: 0.057274\tvalid_0's l2: 0.00328031\n",
      "[8]\tvalid_0's rmse: 0.0553938\tvalid_0's l2: 0.00306848\n",
      "[9]\tvalid_0's rmse: 0.0537545\tvalid_0's l2: 0.00288954\n",
      "[10]\tvalid_0's rmse: 0.0524386\tvalid_0's l2: 0.00274981\n",
      "[11]\tvalid_0's rmse: 0.0513116\tvalid_0's l2: 0.00263288\n",
      "[12]\tvalid_0's rmse: 0.0503244\tvalid_0's l2: 0.00253254\n",
      "[13]\tvalid_0's rmse: 0.0495287\tvalid_0's l2: 0.00245309\n",
      "[14]\tvalid_0's rmse: 0.0488299\tvalid_0's l2: 0.00238436\n",
      "[15]\tvalid_0's rmse: 0.0482811\tvalid_0's l2: 0.00233106\n",
      "[16]\tvalid_0's rmse: 0.0477885\tvalid_0's l2: 0.00228374\n",
      "[17]\tvalid_0's rmse: 0.0474526\tvalid_0's l2: 0.00225175\n",
      "[18]\tvalid_0's rmse: 0.047156\tvalid_0's l2: 0.00222369\n",
      "[19]\tvalid_0's rmse: 0.046825\tvalid_0's l2: 0.00219258\n",
      "[20]\tvalid_0's rmse: 0.0465528\tvalid_0's l2: 0.00216717\n",
      "[21]\tvalid_0's rmse: 0.0463468\tvalid_0's l2: 0.00214802\n",
      "[22]\tvalid_0's rmse: 0.0462496\tvalid_0's l2: 0.00213902\n",
      "[23]\tvalid_0's rmse: 0.046137\tvalid_0's l2: 0.00212863\n",
      "[24]\tvalid_0's rmse: 0.0460427\tvalid_0's l2: 0.00211993\n",
      "[25]\tvalid_0's rmse: 0.0459451\tvalid_0's l2: 0.00211095\n",
      "[26]\tvalid_0's rmse: 0.0458852\tvalid_0's l2: 0.00210545\n",
      "[27]\tvalid_0's rmse: 0.0458077\tvalid_0's l2: 0.00209835\n",
      "[28]\tvalid_0's rmse: 0.0457609\tvalid_0's l2: 0.00209406\n",
      "[29]\tvalid_0's rmse: 0.0457188\tvalid_0's l2: 0.00209021\n",
      "[30]\tvalid_0's rmse: 0.0456876\tvalid_0's l2: 0.00208736\n",
      "[31]\tvalid_0's rmse: 0.0456457\tvalid_0's l2: 0.00208353\n",
      "[32]\tvalid_0's rmse: 0.0456183\tvalid_0's l2: 0.00208103\n",
      "[33]\tvalid_0's rmse: 0.0455939\tvalid_0's l2: 0.0020788\n",
      "[34]\tvalid_0's rmse: 0.0455868\tvalid_0's l2: 0.00207816\n",
      "[35]\tvalid_0's rmse: 0.0455697\tvalid_0's l2: 0.0020766\n",
      "[36]\tvalid_0's rmse: 0.0455786\tvalid_0's l2: 0.00207741\n",
      "[37]\tvalid_0's rmse: 0.0455543\tvalid_0's l2: 0.00207519\n",
      "[38]\tvalid_0's rmse: 0.0455662\tvalid_0's l2: 0.00207628\n",
      "[39]\tvalid_0's rmse: 0.045567\tvalid_0's l2: 0.00207635\n",
      "[40]\tvalid_0's rmse: 0.0455704\tvalid_0's l2: 0.00207666\n",
      "[41]\tvalid_0's rmse: 0.0455589\tvalid_0's l2: 0.00207562\n",
      "[42]\tvalid_0's rmse: 0.0455358\tvalid_0's l2: 0.00207351\n",
      "[43]\tvalid_0's rmse: 0.0455136\tvalid_0's l2: 0.00207149\n",
      "[44]\tvalid_0's rmse: 0.045519\tvalid_0's l2: 0.00207198\n",
      "[45]\tvalid_0's rmse: 0.0455266\tvalid_0's l2: 0.00207267\n",
      "[46]\tvalid_0's rmse: 0.0454928\tvalid_0's l2: 0.00206959\n",
      "[47]\tvalid_0's rmse: 0.0454646\tvalid_0's l2: 0.00206703\n",
      "[48]\tvalid_0's rmse: 0.0454512\tvalid_0's l2: 0.00206581\n",
      "[49]\tvalid_0's rmse: 0.0454546\tvalid_0's l2: 0.00206612\n",
      "[50]\tvalid_0's rmse: 0.0454688\tvalid_0's l2: 0.00206741\n",
      "[51]\tvalid_0's rmse: 0.0454843\tvalid_0's l2: 0.00206882\n",
      "[52]\tvalid_0's rmse: 0.0454875\tvalid_0's l2: 0.00206911\n",
      "[53]\tvalid_0's rmse: 0.0455059\tvalid_0's l2: 0.00207079\n",
      "Early stopping, best iteration is:\n",
      "[48]\tvalid_0's rmse: 0.0454512\tvalid_0's l2: 0.00206581\n",
      "[1]\tvalid_0's rmse: 0.0787009\tvalid_0's l2: 0.00619383\n",
      "Training until validation scores don't improve for 5 rounds.\n",
      "[2]\tvalid_0's rmse: 0.0735695\tvalid_0's l2: 0.00541247\n",
      "[3]\tvalid_0's rmse: 0.0691014\tvalid_0's l2: 0.00477501\n",
      "[4]\tvalid_0's rmse: 0.0653681\tvalid_0's l2: 0.00427299\n"
     ]
    },
    {
     "name": "stderr",
     "output_type": "stream",
     "text": [
      "/home/alexandr/anaconda3/lib/python3.6/site-packages/lightgbm/engine.py:113: UserWarning: Found `num_iterations` in params. Will use it instead of argument\n",
      "  warnings.warn(\"Found `{}` in params. Will use it instead of argument\".format(alias))\n"
     ]
    },
    {
     "name": "stdout",
     "output_type": "stream",
     "text": [
      "[5]\tvalid_0's rmse: 0.062187\tvalid_0's l2: 0.00386722\n",
      "[6]\tvalid_0's rmse: 0.0594671\tvalid_0's l2: 0.00353633\n",
      "[7]\tvalid_0's rmse: 0.057123\tvalid_0's l2: 0.00326304\n",
      "[8]\tvalid_0's rmse: 0.0551798\tvalid_0's l2: 0.00304481\n",
      "[9]\tvalid_0's rmse: 0.0536403\tvalid_0's l2: 0.00287728\n",
      "[10]\tvalid_0's rmse: 0.0522728\tvalid_0's l2: 0.00273244\n",
      "[11]\tvalid_0's rmse: 0.0511285\tvalid_0's l2: 0.00261412\n",
      "[12]\tvalid_0's rmse: 0.0501499\tvalid_0's l2: 0.00251502\n",
      "[13]\tvalid_0's rmse: 0.0493327\tvalid_0's l2: 0.00243371\n",
      "[14]\tvalid_0's rmse: 0.0486002\tvalid_0's l2: 0.00236198\n",
      "[15]\tvalid_0's rmse: 0.0481018\tvalid_0's l2: 0.00231378\n",
      "[16]\tvalid_0's rmse: 0.0476896\tvalid_0's l2: 0.0022743\n",
      "[17]\tvalid_0's rmse: 0.0473293\tvalid_0's l2: 0.00224007\n",
      "[18]\tvalid_0's rmse: 0.0469925\tvalid_0's l2: 0.0022083\n",
      "[19]\tvalid_0's rmse: 0.0467887\tvalid_0's l2: 0.00218919\n",
      "[20]\tvalid_0's rmse: 0.0466002\tvalid_0's l2: 0.00217158\n",
      "[21]\tvalid_0's rmse: 0.0464286\tvalid_0's l2: 0.00215562\n",
      "[22]\tvalid_0's rmse: 0.0462647\tvalid_0's l2: 0.00214042\n",
      "[23]\tvalid_0's rmse: 0.046137\tvalid_0's l2: 0.00212862\n",
      "[24]\tvalid_0's rmse: 0.0460443\tvalid_0's l2: 0.00212008\n",
      "[25]\tvalid_0's rmse: 0.0459856\tvalid_0's l2: 0.00211467\n",
      "[26]\tvalid_0's rmse: 0.0459548\tvalid_0's l2: 0.00211184\n",
      "[27]\tvalid_0's rmse: 0.0458873\tvalid_0's l2: 0.00210564\n",
      "[28]\tvalid_0's rmse: 0.045818\tvalid_0's l2: 0.00209929\n",
      "[29]\tvalid_0's rmse: 0.0457995\tvalid_0's l2: 0.0020976\n",
      "[30]\tvalid_0's rmse: 0.0457665\tvalid_0's l2: 0.00209457\n",
      "[31]\tvalid_0's rmse: 0.0457526\tvalid_0's l2: 0.0020933\n",
      "[32]\tvalid_0's rmse: 0.0457143\tvalid_0's l2: 0.00208979\n",
      "[33]\tvalid_0's rmse: 0.0457122\tvalid_0's l2: 0.00208961\n",
      "[34]\tvalid_0's rmse: 0.0456813\tvalid_0's l2: 0.00208678\n",
      "[35]\tvalid_0's rmse: 0.0456611\tvalid_0's l2: 0.00208494\n",
      "[36]\tvalid_0's rmse: 0.0456686\tvalid_0's l2: 0.00208562\n",
      "[37]\tvalid_0's rmse: 0.0456616\tvalid_0's l2: 0.00208498\n",
      "[38]\tvalid_0's rmse: 0.0456256\tvalid_0's l2: 0.00208169\n",
      "[39]\tvalid_0's rmse: 0.0456479\tvalid_0's l2: 0.00208373\n",
      "[40]\tvalid_0's rmse: 0.0456376\tvalid_0's l2: 0.00208279\n",
      "[41]\tvalid_0's rmse: 0.0456445\tvalid_0's l2: 0.00208342\n",
      "[42]\tvalid_0's rmse: 0.0456379\tvalid_0's l2: 0.00208282\n",
      "[43]\tvalid_0's rmse: 0.045615\tvalid_0's l2: 0.00208072\n",
      "[44]\tvalid_0's rmse: 0.0456513\tvalid_0's l2: 0.00208405\n",
      "[45]\tvalid_0's rmse: 0.0456718\tvalid_0's l2: 0.00208591\n",
      "[46]\tvalid_0's rmse: 0.0456705\tvalid_0's l2: 0.0020858\n",
      "[47]\tvalid_0's rmse: 0.0456677\tvalid_0's l2: 0.00208554\n",
      "[48]\tvalid_0's rmse: 0.045694\tvalid_0's l2: 0.00208794\n",
      "Early stopping, best iteration is:\n",
      "[43]\tvalid_0's rmse: 0.045615\tvalid_0's l2: 0.00208072\n",
      "[1]\tvalid_0's rmse: 0.0787136\tvalid_0's l2: 0.00619584\n",
      "Training until validation scores don't improve for 5 rounds.\n",
      "[2]\tvalid_0's rmse: 0.0735559\tvalid_0's l2: 0.00541047\n"
     ]
    },
    {
     "name": "stderr",
     "output_type": "stream",
     "text": [
      "/home/alexandr/anaconda3/lib/python3.6/site-packages/lightgbm/engine.py:113: UserWarning: Found `num_iterations` in params. Will use it instead of argument\n",
      "  warnings.warn(\"Found `{}` in params. Will use it instead of argument\".format(alias))\n"
     ]
    },
    {
     "name": "stdout",
     "output_type": "stream",
     "text": [
      "[3]\tvalid_0's rmse: 0.0690645\tvalid_0's l2: 0.0047699\n",
      "[4]\tvalid_0's rmse: 0.0653258\tvalid_0's l2: 0.00426746\n",
      "[5]\tvalid_0's rmse: 0.0621006\tvalid_0's l2: 0.00385648\n",
      "[6]\tvalid_0's rmse: 0.0593841\tvalid_0's l2: 0.00352647\n",
      "[7]\tvalid_0's rmse: 0.0570303\tvalid_0's l2: 0.00325246\n",
      "[8]\tvalid_0's rmse: 0.0550412\tvalid_0's l2: 0.00302954\n",
      "[9]\tvalid_0's rmse: 0.0534237\tvalid_0's l2: 0.00285409\n",
      "[10]\tvalid_0's rmse: 0.0520601\tvalid_0's l2: 0.00271025\n",
      "[11]\tvalid_0's rmse: 0.0509056\tvalid_0's l2: 0.00259138\n",
      "[12]\tvalid_0's rmse: 0.049995\tvalid_0's l2: 0.0024995\n",
      "[13]\tvalid_0's rmse: 0.049227\tvalid_0's l2: 0.00242329\n",
      "[14]\tvalid_0's rmse: 0.0485679\tvalid_0's l2: 0.00235885\n",
      "[15]\tvalid_0's rmse: 0.0480392\tvalid_0's l2: 0.00230777\n",
      "[16]\tvalid_0's rmse: 0.0475363\tvalid_0's l2: 0.0022597\n",
      "[17]\tvalid_0's rmse: 0.0471641\tvalid_0's l2: 0.00222446\n",
      "[18]\tvalid_0's rmse: 0.0468769\tvalid_0's l2: 0.00219745\n",
      "[19]\tvalid_0's rmse: 0.0466643\tvalid_0's l2: 0.00217756\n",
      "[20]\tvalid_0's rmse: 0.0464905\tvalid_0's l2: 0.00216136\n",
      "[21]\tvalid_0's rmse: 0.0463157\tvalid_0's l2: 0.00214514\n",
      "[22]\tvalid_0's rmse: 0.0462012\tvalid_0's l2: 0.00213456\n",
      "[23]\tvalid_0's rmse: 0.0461032\tvalid_0's l2: 0.0021255\n",
      "[24]\tvalid_0's rmse: 0.046036\tvalid_0's l2: 0.00211931\n",
      "[25]\tvalid_0's rmse: 0.0459834\tvalid_0's l2: 0.00211447\n",
      "[26]\tvalid_0's rmse: 0.0459543\tvalid_0's l2: 0.00211179\n",
      "[27]\tvalid_0's rmse: 0.0458879\tvalid_0's l2: 0.0021057\n",
      "[28]\tvalid_0's rmse: 0.0458324\tvalid_0's l2: 0.00210061\n",
      "[29]\tvalid_0's rmse: 0.0457896\tvalid_0's l2: 0.00209668\n",
      "[30]\tvalid_0's rmse: 0.045789\tvalid_0's l2: 0.00209663\n",
      "[31]\tvalid_0's rmse: 0.0457742\tvalid_0's l2: 0.00209528\n",
      "[32]\tvalid_0's rmse: 0.0457619\tvalid_0's l2: 0.00209416\n",
      "[33]\tvalid_0's rmse: 0.0457492\tvalid_0's l2: 0.00209299\n",
      "[34]\tvalid_0's rmse: 0.0457591\tvalid_0's l2: 0.00209389\n",
      "[35]\tvalid_0's rmse: 0.0457307\tvalid_0's l2: 0.0020913\n",
      "[36]\tvalid_0's rmse: 0.0457095\tvalid_0's l2: 0.00208936\n",
      "[37]\tvalid_0's rmse: 0.0456813\tvalid_0's l2: 0.00208678\n",
      "[38]\tvalid_0's rmse: 0.0456542\tvalid_0's l2: 0.0020843\n",
      "[39]\tvalid_0's rmse: 0.0456569\tvalid_0's l2: 0.00208455\n",
      "[40]\tvalid_0's rmse: 0.0456465\tvalid_0's l2: 0.0020836\n",
      "[41]\tvalid_0's rmse: 0.0456352\tvalid_0's l2: 0.00208257\n",
      "[42]\tvalid_0's rmse: 0.0456461\tvalid_0's l2: 0.00208356\n",
      "[43]\tvalid_0's rmse: 0.0456346\tvalid_0's l2: 0.00208252\n",
      "[44]\tvalid_0's rmse: 0.0456439\tvalid_0's l2: 0.00208336\n",
      "[45]\tvalid_0's rmse: 0.0456206\tvalid_0's l2: 0.00208124\n",
      "[46]\tvalid_0's rmse: 0.0456178\tvalid_0's l2: 0.00208099\n",
      "[47]\tvalid_0's rmse: 0.0456118\tvalid_0's l2: 0.00208044\n",
      "[48]\tvalid_0's rmse: 0.045636\tvalid_0's l2: 0.00208265\n",
      "[49]\tvalid_0's rmse: 0.045641\tvalid_0's l2: 0.0020831\n",
      "[50]\tvalid_0's rmse: 0.0456361\tvalid_0's l2: 0.00208266\n",
      "[51]\tvalid_0's rmse: 0.0456282\tvalid_0's l2: 0.00208193\n",
      "[52]\tvalid_0's rmse: 0.0455888\tvalid_0's l2: 0.00207834\n",
      "[53]\tvalid_0's rmse: 0.0455923\tvalid_0's l2: 0.00207865\n",
      "[54]\tvalid_0's rmse: 0.0455904\tvalid_0's l2: 0.00207848\n",
      "[55]\tvalid_0's rmse: 0.0456049\tvalid_0's l2: 0.00207981\n",
      "[56]\tvalid_0's rmse: 0.0456076\tvalid_0's l2: 0.00208005\n",
      "[57]\tvalid_0's rmse: 0.0455799\tvalid_0's l2: 0.00207752\n",
      "[58]\tvalid_0's rmse: 0.0455795\tvalid_0's l2: 0.00207749\n",
      "[59]\tvalid_0's rmse: 0.0456039\tvalid_0's l2: 0.00207972\n",
      "[60]\tvalid_0's rmse: 0.0456057\tvalid_0's l2: 0.00207988\n",
      "[61]\tvalid_0's rmse: 0.0456154\tvalid_0's l2: 0.00208077\n",
      "[62]\tvalid_0's rmse: 0.0456107\tvalid_0's l2: 0.00208034\n",
      "[63]\tvalid_0's rmse: 0.0456365\tvalid_0's l2: 0.00208269\n",
      "Early stopping, best iteration is:\n",
      "[58]\tvalid_0's rmse: 0.0455795\tvalid_0's l2: 0.00207749\n"
     ]
    },
    {
     "name": "stderr",
     "output_type": "stream",
     "text": [
      "/home/alexandr/anaconda3/lib/python3.6/site-packages/lightgbm/engine.py:113: UserWarning: Found `num_iterations` in params. Will use it instead of argument\n",
      "  warnings.warn(\"Found `{}` in params. Will use it instead of argument\".format(alias))\n"
     ]
    },
    {
     "name": "stdout",
     "output_type": "stream",
     "text": [
      "[1]\tvalid_0's rmse: 0.0786926\tvalid_0's l2: 0.00619252\n",
      "Training until validation scores don't improve for 5 rounds.\n",
      "[2]\tvalid_0's rmse: 0.0735049\tvalid_0's l2: 0.00540297\n",
      "[3]\tvalid_0's rmse: 0.0689891\tvalid_0's l2: 0.0047595\n",
      "[4]\tvalid_0's rmse: 0.0652202\tvalid_0's l2: 0.00425368\n",
      "[5]\tvalid_0's rmse: 0.0619844\tvalid_0's l2: 0.00384207\n",
      "[6]\tvalid_0's rmse: 0.0592314\tvalid_0's l2: 0.00350835\n",
      "[7]\tvalid_0's rmse: 0.0568251\tvalid_0's l2: 0.0032291\n",
      "[8]\tvalid_0's rmse: 0.0548964\tvalid_0's l2: 0.00301361\n",
      "[9]\tvalid_0's rmse: 0.0533494\tvalid_0's l2: 0.00284616\n",
      "[10]\tvalid_0's rmse: 0.0519821\tvalid_0's l2: 0.00270214\n",
      "[11]\tvalid_0's rmse: 0.0508534\tvalid_0's l2: 0.00258607\n",
      "[12]\tvalid_0's rmse: 0.0498901\tvalid_0's l2: 0.00248903\n",
      "[13]\tvalid_0's rmse: 0.0490523\tvalid_0's l2: 0.00240613\n",
      "[14]\tvalid_0's rmse: 0.0483906\tvalid_0's l2: 0.00234165\n",
      "[15]\tvalid_0's rmse: 0.0479346\tvalid_0's l2: 0.00229773\n",
      "[16]\tvalid_0's rmse: 0.0474569\tvalid_0's l2: 0.00225216\n",
      "[17]\tvalid_0's rmse: 0.0470606\tvalid_0's l2: 0.0022147\n",
      "[18]\tvalid_0's rmse: 0.0467371\tvalid_0's l2: 0.00218436\n",
      "[19]\tvalid_0's rmse: 0.0464761\tvalid_0's l2: 0.00216003\n",
      "[20]\tvalid_0's rmse: 0.0463136\tvalid_0's l2: 0.00214495\n",
      "[21]\tvalid_0's rmse: 0.0461921\tvalid_0's l2: 0.00213371\n",
      "[22]\tvalid_0's rmse: 0.0460415\tvalid_0's l2: 0.00211982\n",
      "[23]\tvalid_0's rmse: 0.0459058\tvalid_0's l2: 0.00210735\n",
      "[24]\tvalid_0's rmse: 0.0458193\tvalid_0's l2: 0.00209941\n",
      "[25]\tvalid_0's rmse: 0.0457743\tvalid_0's l2: 0.00209529\n",
      "[26]\tvalid_0's rmse: 0.0456878\tvalid_0's l2: 0.00208738\n",
      "[27]\tvalid_0's rmse: 0.0456483\tvalid_0's l2: 0.00208377\n",
      "[28]\tvalid_0's rmse: 0.0455948\tvalid_0's l2: 0.00207889\n",
      "[29]\tvalid_0's rmse: 0.0455681\tvalid_0's l2: 0.00207646\n",
      "[30]\tvalid_0's rmse: 0.0455544\tvalid_0's l2: 0.0020752\n",
      "[31]\tvalid_0's rmse: 0.0455418\tvalid_0's l2: 0.00207406\n",
      "[32]\tvalid_0's rmse: 0.0455327\tvalid_0's l2: 0.00207322\n",
      "[33]\tvalid_0's rmse: 0.0455375\tvalid_0's l2: 0.00207367\n",
      "[34]\tvalid_0's rmse: 0.0455221\tvalid_0's l2: 0.00207226\n",
      "[35]\tvalid_0's rmse: 0.0455065\tvalid_0's l2: 0.00207084\n",
      "[36]\tvalid_0's rmse: 0.0455514\tvalid_0's l2: 0.00207493\n",
      "[37]\tvalid_0's rmse: 0.0455389\tvalid_0's l2: 0.00207379\n",
      "[38]\tvalid_0's rmse: 0.0455633\tvalid_0's l2: 0.00207602\n",
      "[39]\tvalid_0's rmse: 0.0455562\tvalid_0's l2: 0.00207537\n",
      "[40]\tvalid_0's rmse: 0.0455816\tvalid_0's l2: 0.00207769\n",
      "Early stopping, best iteration is:\n",
      "[35]\tvalid_0's rmse: 0.0455065\tvalid_0's l2: 0.00207084\n"
     ]
    },
    {
     "name": "stderr",
     "output_type": "stream",
     "text": [
      "/home/alexandr/anaconda3/lib/python3.6/site-packages/lightgbm/engine.py:113: UserWarning: Found `num_iterations` in params. Will use it instead of argument\n",
      "  warnings.warn(\"Found `{}` in params. Will use it instead of argument\".format(alias))\n"
     ]
    },
    {
     "name": "stdout",
     "output_type": "stream",
     "text": [
      "[1]\tvalid_0's rmse: 0.078682\tvalid_0's l2: 0.00619086\n",
      "Training until validation scores don't improve for 5 rounds.\n",
      "[2]\tvalid_0's rmse: 0.0734958\tvalid_0's l2: 0.00540163\n",
      "[3]\tvalid_0's rmse: 0.0689644\tvalid_0's l2: 0.00475609\n",
      "[4]\tvalid_0's rmse: 0.0652039\tvalid_0's l2: 0.00425155\n",
      "[5]\tvalid_0's rmse: 0.0619682\tvalid_0's l2: 0.00384006\n",
      "[6]\tvalid_0's rmse: 0.0591968\tvalid_0's l2: 0.00350426\n",
      "[7]\tvalid_0's rmse: 0.0567959\tvalid_0's l2: 0.00322578\n",
      "[8]\tvalid_0's rmse: 0.0549108\tvalid_0's l2: 0.00301519\n",
      "[9]\tvalid_0's rmse: 0.0533282\tvalid_0's l2: 0.0028439\n",
      "[10]\tvalid_0's rmse: 0.0519665\tvalid_0's l2: 0.00270052\n",
      "[11]\tvalid_0's rmse: 0.0508515\tvalid_0's l2: 0.00258588\n",
      "[12]\tvalid_0's rmse: 0.049867\tvalid_0's l2: 0.00248672\n",
      "[13]\tvalid_0's rmse: 0.0490835\tvalid_0's l2: 0.00240919\n",
      "[14]\tvalid_0's rmse: 0.0484708\tvalid_0's l2: 0.00234942\n",
      "[15]\tvalid_0's rmse: 0.0479122\tvalid_0's l2: 0.00229558\n",
      "[16]\tvalid_0's rmse: 0.0474393\tvalid_0's l2: 0.00225048\n",
      "[17]\tvalid_0's rmse: 0.0471053\tvalid_0's l2: 0.00221891\n",
      "[18]\tvalid_0's rmse: 0.0468271\tvalid_0's l2: 0.00219278\n",
      "[19]\tvalid_0's rmse: 0.04658\tvalid_0's l2: 0.00216969\n",
      "[20]\tvalid_0's rmse: 0.0463715\tvalid_0's l2: 0.00215032\n",
      "[21]\tvalid_0's rmse: 0.0461512\tvalid_0's l2: 0.00212993\n",
      "[22]\tvalid_0's rmse: 0.0460471\tvalid_0's l2: 0.00212034\n",
      "[23]\tvalid_0's rmse: 0.0459655\tvalid_0's l2: 0.00211283\n",
      "[24]\tvalid_0's rmse: 0.0458735\tvalid_0's l2: 0.00210438\n",
      "[25]\tvalid_0's rmse: 0.0458039\tvalid_0's l2: 0.002098\n",
      "[26]\tvalid_0's rmse: 0.04573\tvalid_0's l2: 0.00209124\n",
      "[27]\tvalid_0's rmse: 0.0456865\tvalid_0's l2: 0.00208726\n",
      "[28]\tvalid_0's rmse: 0.0456626\tvalid_0's l2: 0.00208508\n",
      "[29]\tvalid_0's rmse: 0.0456413\tvalid_0's l2: 0.00208313\n",
      "[30]\tvalid_0's rmse: 0.045602\tvalid_0's l2: 0.00207955\n",
      "[31]\tvalid_0's rmse: 0.0456182\tvalid_0's l2: 0.00208102\n",
      "[32]\tvalid_0's rmse: 0.0456247\tvalid_0's l2: 0.00208162\n",
      "[33]\tvalid_0's rmse: 0.0455984\tvalid_0's l2: 0.00207922\n",
      "[34]\tvalid_0's rmse: 0.0455729\tvalid_0's l2: 0.00207689\n",
      "[35]\tvalid_0's rmse: 0.0455785\tvalid_0's l2: 0.0020774\n",
      "[36]\tvalid_0's rmse: 0.0455798\tvalid_0's l2: 0.00207752\n",
      "[37]\tvalid_0's rmse: 0.045594\tvalid_0's l2: 0.00207882\n",
      "[38]\tvalid_0's rmse: 0.0456334\tvalid_0's l2: 0.00208241\n",
      "[39]\tvalid_0's rmse: 0.0456206\tvalid_0's l2: 0.00208124\n",
      "Early stopping, best iteration is:\n",
      "[34]\tvalid_0's rmse: 0.0455729\tvalid_0's l2: 0.00207689\n",
      "\n"
     ]
    }
   ],
   "source": [
    "X_train, X_valid, Y_train, Y_valid = train_test_split(X_, Y_, test_size=0.25, random_state=1)\n",
    "def train(depth=12, n_estimators=150):\n",
    "    gbm = lgb.LGBMRegressor(objective = 'regression',  \n",
    "                            max_depth = depth,\n",
    "                            num_iterations=1000,\n",
    "                            learning_rate = 0.1,\n",
    "                            num_leaves = 2**(depth-1),\n",
    "                            boosting = 'gbdt',\n",
    "                            n_estimators = n_estimators)\n",
    "    gbm.fit(X_train, Y_train, eval_set=[(X_valid, Y_valid)], eval_metric='rmse', early_stopping_rounds=5)\n",
    "    score = rmse(Y_valid, gbm.predict(X_valid))\n",
    "    return gbm, score\n",
    "scores = []\n",
    "models = []\n",
    "for depth in tqdm_notebook(range(3, 12)):\n",
    "    model, score = train(depth)\n",
    "    models.append(model)\n",
    "    scores.append(score)\n",
    "    \n",
    "opt_depth = 5+np.argmin(scores)\n",
    "gbm_model = models[np.argmin(scores)]"
   ]
  },
  {
   "cell_type": "code",
   "execution_count": 80,
   "metadata": {},
   "outputs": [
    {
     "name": "stdout",
     "output_type": "stream",
     "text": [
      "0.04545121159297125 0.04545121159297125\n"
     ]
    },
    {
     "data": {
      "image/png": "[encoded data removed]",
      "text/plain": [
       "<Figure size 432x288 with 1 Axes>"
      ]
     },
     "metadata": {},
     "output_type": "display_data"
    }
   ],
   "source": [
    "lgb.plot_importance(gbm_model)\n",
    "print(rmse(Y_valid, gbm_model.predict(X_valid)), scores[opt_depth-5])"
   ]
  },
  {
   "cell_type": "markdown",
   "metadata": {},
   "source": [
    "## XGBoost\n"
   ]
  },
  {
   "cell_type": "code",
   "execution_count": 81,
   "metadata": {},
   "outputs": [],
   "source": [
    "def train_xgb(params):\n",
    "    xg_reg = xgb.XGBRegressor(**params)\n",
    "    xg_reg.fit(X_train, Y_train)\n",
    "    score = rmse(Y_valid, xg_reg.predict(X_valid))\n",
    "    return xg_reg, score"
   ]
  },
  {
   "cell_type": "code",
   "execution_count": 82,
   "metadata": {
    "scrolled": true
   },
   "outputs": [
    {
     "data": {
      "application/vnd.jupyter.widget-view+json": {
       "model_id": "b2c4138c1fb341ac8577ae6697257436",
       "version_major": 2,
       "version_minor": 0
      },
      "text/plain": [
       "HBox(children=(IntProgress(value=0, max=4), HTML(value='')))"
      ]
     },
     "metadata": {},
     "output_type": "display_data"
    },
    {
     "name": "stdout",
     "output_type": "stream",
     "text": [
      "num of estimators: 100 depth: 4 score: 0.04502392593446164 \n",
      "\n",
      "num of estimators: 120 depth: 4 score: 0.0449895473246666 \n",
      "\n",
      "num of estimators: 140 depth: 4 score: 0.04486952078742472 \n",
      "\n",
      "num of estimators: 160 depth: 4 score: 0.0448536869467221 \n",
      "\n",
      "num of estimators: 180 depth: 4 score: 0.044887217487477885 \n",
      "\n",
      "num of estimators: 200 depth: 4 score: 0.04486059296364349 \n",
      "\n",
      "num of estimators: 220 depth: 4 score: 0.044809481866226436 \n",
      "\n",
      "num of estimators: 240 depth: 4 score: 0.04490060878751259 \n",
      "\n",
      "num of estimators: 100 depth: 5 score: 0.044775825286692494 \n",
      "\n",
      "num of estimators: 120 depth: 5 score: 0.04489752352886118 \n",
      "\n",
      "num of estimators: 140 depth: 5 score: 0.044937078187427544 \n",
      "\n",
      "num of estimators: 160 depth: 5 score: 0.0449577213157528 \n",
      "\n",
      "num of estimators: 180 depth: 5 score: 0.045117730708787336 \n",
      "\n",
      "num of estimators: 200 depth: 5 score: 0.045223422078588045 \n",
      "\n",
      "num of estimators: 220 depth: 5 score: 0.04529536949403638 \n",
      "\n",
      "num of estimators: 240 depth: 5 score: 0.04530915021349586 \n",
      "\n",
      "num of estimators: 100 depth: 6 score: 0.04468519902497276 \n",
      "\n",
      "num of estimators: 120 depth: 6 score: 0.044827139670178255 \n",
      "\n",
      "num of estimators: 140 depth: 6 score: 0.04484587910158469 \n",
      "\n",
      "num of estimators: 160 depth: 6 score: 0.04499598877979938 \n",
      "\n",
      "num of estimators: 180 depth: 6 score: 0.0451400890186075 \n",
      "\n",
      "num of estimators: 200 depth: 6 score: 0.04528330293203677 \n",
      "\n",
      "num of estimators: 220 depth: 6 score: 0.045366108185597616 \n",
      "\n",
      "num of estimators: 240 depth: 6 score: 0.0454384280204062 \n",
      "\n",
      "num of estimators: 100 depth: 7 score: 0.0451003159009049 \n",
      "\n",
      "num of estimators: 120 depth: 7 score: 0.04511017566416894 \n",
      "\n",
      "num of estimators: 140 depth: 7 score: 0.04514586413408158 \n",
      "\n",
      "num of estimators: 160 depth: 7 score: 0.04532981527717879 \n",
      "\n",
      "num of estimators: 180 depth: 7 score: 0.045480620639926354 \n",
      "\n",
      "num of estimators: 200 depth: 7 score: 0.0455824874746931 \n",
      "\n",
      "num of estimators: 220 depth: 7 score: 0.045671462209556805 \n",
      "\n",
      "num of estimators: 240 depth: 7 score: 0.04573434897941646 \n",
      "\n",
      "\n"
     ]
    }
   ],
   "source": [
    "scores = []\n",
    "models = []\n",
    "\n",
    "conf = {\n",
    "    'seed': 1,\n",
    "    'subsample': 0.8,\n",
    "    'max_depth': 7,\n",
    "    'n_estimators': 150,\n",
    "    'n_jobs': -1,\n",
    "    'eval_metric': 'rmse'\n",
    "}\n",
    "\n",
    "for depth in tqdm_notebook(range(4, 8)):\n",
    "    for n_estimators in range(100, 250, 20):\n",
    "        conf['max_depth'] = depth\n",
    "        conf['n_estimators'] = n_estimators\n",
    "        model, score = train_xgb(conf)\n",
    "        models.append(model)\n",
    "        scores.append(score)\n",
    "        print('num of estimators:', n_estimators,\n",
    "              'depth:', depth, \n",
    "              'score:', score, '\\n')\n",
    "\n",
    "xgb_model = models[np.argmin(scores)]\n",
    "score = scores[np.argmin(scores)]"
   ]
  },
  {
   "cell_type": "code",
   "execution_count": 83,
   "metadata": {},
   "outputs": [
    {
     "name": "stdout",
     "output_type": "stream",
     "text": [
      "0.04468519902497276 \n",
      " XGBRegressor(base_score=0.5, booster='gbtree', colsample_bylevel=1,\n",
      "       colsample_bytree=1, eval_metric='rmse', gamma=0, learning_rate=0.1,\n",
      "       max_delta_step=0, max_depth=6, min_child_weight=1, missing=None,\n",
      "       n_estimators=100, n_jobs=-1, nthread=None, objective='reg:linear',\n",
      "       random_state=0, reg_alpha=0, reg_lambda=1, scale_pos_weight=1,\n",
      "       seed=1, silent=True, subsample=0.8)\n"
     ]
    },
    {
     "data": {
      "image/png": "[encoded data removed]",
      "text/plain": [
       "<Figure size 432x288 with 1 Axes>"
      ]
     },
     "metadata": {},
     "output_type": "display_data"
    }
   ],
   "source": [
    "print(score, '\\n', xgb_model)\n",
    "plt.plot(scores)\n",
    "plt.grid()"
   ]
  },
  {
   "cell_type": "markdown",
   "metadata": {},
   "source": [
    "## Catboost"
   ]
  },
  {
   "cell_type": "code",
   "execution_count": 96,
   "metadata": {},
   "outputs": [],
   "source": [
    "def column_index(df, query_cols):\n",
    "    cols = df.columns.values\n",
    "    sidx = np.argsort(cols)\n",
    "    return sidx[np.searchsorted(cols,query_cols,sorter=sidx)]"
   ]
  },
  {
   "cell_type": "code",
   "execution_count": 98,
   "metadata": {},
   "outputs": [
    {
     "data": {
      "text/plain": [
       "array([ 0, 10])"
      ]
     },
     "execution_count": 98,
     "metadata": {},
     "output_type": "execute_result"
    }
   ],
   "source": [
    "categorical_features = ['atm_group', 'city']\n",
    "categorical_index = column_index(X_train, categorical_features)\n",
    "categorical_index"
   ]
  },
  {
   "cell_type": "code",
   "execution_count": 104,
   "metadata": {},
   "outputs": [
    {
     "name": "stderr",
     "output_type": "stream",
     "text": [
      "Warning: Overfitting detector is active, thus evaluation metric is calculated on every iteration. 'metric_period' is ignored for evaluation metric.\n"
     ]
    },
    {
     "name": "stdout",
     "output_type": "stream",
     "text": [
      "0:\tlearn: 0.0806713\ttest: 0.0792611\tbest: 0.0792611 (0)\ttotal: 117ms\tremaining: 1m 56s\n",
      "75:\tlearn: 0.0448141\ttest: 0.0458728\tbest: 0.0458728 (75)\ttotal: 1.04s\tremaining: 12.6s\n",
      "150:\tlearn: 0.0427949\ttest: 0.0454488\tbest: 0.0454197 (146)\ttotal: 2.22s\tremaining: 12.5s\n",
      "Stopped by overfitting detector  (20 iterations wait)\n",
      "\n",
      "bestTest = 0.04541972077\n",
      "bestIteration = 146\n",
      "\n",
      "Shrink model to first 147 iterations.\n"
     ]
    },
    {
     "data": {
      "text/plain": [
       "<catboost.core.CatBoostRegressor at 0x7ff59d9f9860>"
      ]
     },
     "execution_count": 104,
     "metadata": {},
     "output_type": "execute_result"
    }
   ],
   "source": [
    "cat_model = cat.CatBoostRegressor(\n",
    "    iterations=1000,\n",
    "    learning_rate=0.1,\n",
    "    depth=7,\n",
    "    eval_metric='RMSE',\n",
    "    random_seed=1,\n",
    "    od_type='Iter',\n",
    "    metric_period=75,\n",
    ")\n",
    "\n",
    "X__ = X_.copy()\n",
    "Y__ = Y_.copy()\n",
    "\n",
    "X_train_, X_valid_, Y_train_, Y_valid_ = train_test_split(\n",
    "    X__, Y__, test_size=0.25, random_state=1)\n",
    "\n",
    "cat_model.fit(X_train_, Y_train_, eval_set=(X_valid_, Y_valid_),\n",
    "             cat_features=categorical_index,\n",
    "             use_best_model=True)"
   ]
  },
  {
   "cell_type": "markdown",
   "metadata": {},
   "source": [
    "## Composite Models"
   ]
  },
  {
   "cell_type": "markdown",
   "metadata": {},
   "source": [
    "### Averaging model"
   ]
  },
  {
   "cell_type": "raw",
   "metadata": {},
   "source": [
    "av_scores = []\n",
    "weights = np.linspace(0, 1, 500)\n",
    "for xgb_weight in weights:\n",
    "    av_model = AveragingModel([xgb_model, gbm_model], weights=(xgb_weight, 1-xgb_weight), pretrained=True)\n",
    "    av_scores.append(rmse(Y_valid, av_model.predict(X_valid)))\n",
    "    print('score:', rmse(Y_valid, av_model.predict(X_valid)), xgb_weight)"
   ]
  },
  {
   "cell_type": "raw",
   "metadata": {},
   "source": [
    "plt.plot(weights, av_scores)\n",
    "print(np.min(av_scores))"
   ]
  },
  {
   "cell_type": "code",
   "execution_count": 111,
   "metadata": {},
   "outputs": [
    {
     "ename": "CatboostError",
     "evalue": "Invalid type for cat_feature[8,0]=496.5 : cat_features must be integer or string, real number values and NaN values should be converted to string.",
     "output_type": "error",
     "traceback": [
      "\u001b[0;31m---------------------------------------------------------------------------\u001b[0m",
      "\u001b[0;31mCatboostError\u001b[0m                             Traceback (most recent call last)",
      "\u001b[0;32m_catboost.pyx\u001b[0m in \u001b[0;36m_catboost.get_cat_factor_bytes_representation\u001b[0;34m()\u001b[0m\n",
      "\u001b[0;32m_catboost.pyx\u001b[0m in \u001b[0;36m_catboost.get_id_object_bytes_string_representation\u001b[0;34m()\u001b[0m\n",
      "\u001b[0;31mCatboostError\u001b[0m: bad object for id: 496.5",
      "\nDuring handling of the above exception, another exception occurred:\n",
      "\u001b[0;31mCatboostError\u001b[0m                             Traceback (most recent call last)",
      "\u001b[0;32m<ipython-input-111-b08536fc1f51>\u001b[0m in \u001b[0;36m<module>\u001b[0;34m()\u001b[0m\n\u001b[1;32m      6\u001b[0m                                   \u001b[0mpretrained\u001b[0m\u001b[0;34m=\u001b[0m\u001b[0;32mTrue\u001b[0m\u001b[0;34m,\u001b[0m\u001b[0;34m\u001b[0m\u001b[0;34m\u001b[0m\u001b[0m\n\u001b[1;32m      7\u001b[0m                                  weights=(xgb_weight, 1-xgb_weight-cat_weight, cat_weight))\n\u001b[0;32m----> 8\u001b[0;31m         \u001b[0mscore\u001b[0m \u001b[0;34m=\u001b[0m \u001b[0mrmse\u001b[0m\u001b[0;34m(\u001b[0m\u001b[0mY_valid\u001b[0m\u001b[0;34m,\u001b[0m \u001b[0mav_model\u001b[0m\u001b[0;34m.\u001b[0m\u001b[0mpredict\u001b[0m\u001b[0;34m(\u001b[0m\u001b[0mX_valid\u001b[0m\u001b[0;34m)\u001b[0m\u001b[0;34m)\u001b[0m\u001b[0;34m\u001b[0m\u001b[0;34m\u001b[0m\u001b[0m\n\u001b[0m\u001b[1;32m      9\u001b[0m         \u001b[0mscores\u001b[0m\u001b[0;34m.\u001b[0m\u001b[0mappend\u001b[0m\u001b[0;34m(\u001b[0m\u001b[0mscore\u001b[0m\u001b[0;34m)\u001b[0m\u001b[0;34m\u001b[0m\u001b[0;34m\u001b[0m\u001b[0m\n\u001b[1;32m     10\u001b[0m         \u001b[0mprint\u001b[0m\u001b[0;34m(\u001b[0m\u001b[0;34m'score:'\u001b[0m\u001b[0;34m,\u001b[0m \u001b[0mscore\u001b[0m\u001b[0;34m)\u001b[0m\u001b[0;34m\u001b[0m\u001b[0;34m\u001b[0m\u001b[0m\n",
      "\u001b[0;32m~/Desktop/study/boosterspro/happy_data_year_rosbank/src/model.py\u001b[0m in \u001b[0;36mpredict\u001b[0;34m(self, X)\u001b[0m\n\u001b[1;32m     29\u001b[0m         \u001b[0mpred\u001b[0m \u001b[0;34m=\u001b[0m \u001b[0;36m0\u001b[0m\u001b[0;34m\u001b[0m\u001b[0;34m\u001b[0m\u001b[0m\n\u001b[1;32m     30\u001b[0m         \u001b[0;32mfor\u001b[0m \u001b[0mmodel\u001b[0m\u001b[0;34m,\u001b[0m \u001b[0mweight\u001b[0m \u001b[0;32min\u001b[0m \u001b[0mzip\u001b[0m\u001b[0;34m(\u001b[0m\u001b[0mself\u001b[0m\u001b[0;34m.\u001b[0m\u001b[0mmodels\u001b[0m\u001b[0;34m,\u001b[0m \u001b[0mself\u001b[0m\u001b[0;34m.\u001b[0m\u001b[0mweights\u001b[0m\u001b[0;34m)\u001b[0m\u001b[0;34m:\u001b[0m\u001b[0;34m\u001b[0m\u001b[0;34m\u001b[0m\u001b[0m\n\u001b[0;32m---> 31\u001b[0;31m             \u001b[0mpred\u001b[0m \u001b[0;34m+=\u001b[0m \u001b[0mweight\u001b[0m\u001b[0;34m*\u001b[0m\u001b[0mmodel\u001b[0m\u001b[0;34m.\u001b[0m\u001b[0mpredict\u001b[0m\u001b[0;34m(\u001b[0m\u001b[0mX\u001b[0m\u001b[0;34m)\u001b[0m\u001b[0;34m\u001b[0m\u001b[0;34m\u001b[0m\u001b[0m\n\u001b[0m\u001b[1;32m     32\u001b[0m \u001b[0;34m\u001b[0m\u001b[0m\n\u001b[1;32m     33\u001b[0m         \u001b[0;32mreturn\u001b[0m \u001b[0mpred\u001b[0m\u001b[0;34m\u001b[0m\u001b[0;34m\u001b[0m\u001b[0m\n",
      "\u001b[0;32m~/anaconda3/lib/python3.6/site-packages/catboost/core.py\u001b[0m in \u001b[0;36mpredict\u001b[0;34m(self, data, ntree_start, ntree_end, thread_count, verbose)\u001b[0m\n\u001b[1;32m   2571\u001b[0m         \u001b[0mprediction\u001b[0m \u001b[0;34m:\u001b[0m \u001b[0mnumpy\u001b[0m\u001b[0;34m.\u001b[0m\u001b[0marray\u001b[0m\u001b[0;34m\u001b[0m\u001b[0;34m\u001b[0m\u001b[0m\n\u001b[1;32m   2572\u001b[0m         \"\"\"\n\u001b[0;32m-> 2573\u001b[0;31m         \u001b[0;32mreturn\u001b[0m \u001b[0mself\u001b[0m\u001b[0;34m.\u001b[0m\u001b[0m_predict\u001b[0m\u001b[0;34m(\u001b[0m\u001b[0mdata\u001b[0m\u001b[0;34m,\u001b[0m \u001b[0;34m\"RawFormulaVal\"\u001b[0m\u001b[0;34m,\u001b[0m \u001b[0mntree_start\u001b[0m\u001b[0;34m,\u001b[0m \u001b[0mntree_end\u001b[0m\u001b[0;34m,\u001b[0m \u001b[0mthread_count\u001b[0m\u001b[0;34m,\u001b[0m \u001b[0mverbose\u001b[0m\u001b[0;34m)\u001b[0m\u001b[0;34m\u001b[0m\u001b[0;34m\u001b[0m\u001b[0m\n\u001b[0m\u001b[1;32m   2574\u001b[0m \u001b[0;34m\u001b[0m\u001b[0m\n\u001b[1;32m   2575\u001b[0m     \u001b[0;32mdef\u001b[0m \u001b[0mstaged_predict\u001b[0m\u001b[0;34m(\u001b[0m\u001b[0mself\u001b[0m\u001b[0;34m,\u001b[0m \u001b[0mdata\u001b[0m\u001b[0;34m,\u001b[0m \u001b[0mntree_start\u001b[0m\u001b[0;34m=\u001b[0m\u001b[0;36m0\u001b[0m\u001b[0;34m,\u001b[0m \u001b[0mntree_end\u001b[0m\u001b[0;34m=\u001b[0m\u001b[0;36m0\u001b[0m\u001b[0;34m,\u001b[0m \u001b[0meval_period\u001b[0m\u001b[0;34m=\u001b[0m\u001b[0;36m1\u001b[0m\u001b[0;34m,\u001b[0m \u001b[0mthread_count\u001b[0m\u001b[0;34m=\u001b[0m\u001b[0;34m-\u001b[0m\u001b[0;36m1\u001b[0m\u001b[0;34m,\u001b[0m \u001b[0mverbose\u001b[0m\u001b[0;34m=\u001b[0m\u001b[0;32mNone\u001b[0m\u001b[0;34m)\u001b[0m\u001b[0;34m:\u001b[0m\u001b[0;34m\u001b[0m\u001b[0;34m\u001b[0m\u001b[0m\n",
      "\u001b[0;32m~/anaconda3/lib/python3.6/site-packages/catboost/core.py\u001b[0m in \u001b[0;36m_predict\u001b[0;34m(self, data, prediction_type, ntree_start, ntree_end, thread_count, verbose)\u001b[0m\n\u001b[1;32m   1257\u001b[0m             data = Pool(\n\u001b[1;32m   1258\u001b[0m                 \u001b[0mdata\u001b[0m\u001b[0;34m=\u001b[0m\u001b[0mdata\u001b[0m\u001b[0;34m,\u001b[0m\u001b[0;34m\u001b[0m\u001b[0;34m\u001b[0m\u001b[0m\n\u001b[0;32m-> 1259\u001b[0;31m                 \u001b[0mcat_features\u001b[0m\u001b[0;34m=\u001b[0m\u001b[0mself\u001b[0m\u001b[0;34m.\u001b[0m\u001b[0m_get_cat_feature_indices\u001b[0m\u001b[0;34m(\u001b[0m\u001b[0;34m)\u001b[0m \u001b[0;32mif\u001b[0m \u001b[0;32mnot\u001b[0m \u001b[0misinstance\u001b[0m\u001b[0;34m(\u001b[0m\u001b[0mdata\u001b[0m\u001b[0;34m,\u001b[0m \u001b[0mFeaturesData\u001b[0m\u001b[0;34m)\u001b[0m \u001b[0;32melse\u001b[0m \u001b[0;32mNone\u001b[0m\u001b[0;34m\u001b[0m\u001b[0;34m\u001b[0m\u001b[0m\n\u001b[0m\u001b[1;32m   1260\u001b[0m             )\n\u001b[1;32m   1261\u001b[0m         \u001b[0;32mif\u001b[0m \u001b[0;32mnot\u001b[0m \u001b[0misinstance\u001b[0m\u001b[0;34m(\u001b[0m\u001b[0mprediction_type\u001b[0m\u001b[0;34m,\u001b[0m \u001b[0mSTRING_TYPES\u001b[0m\u001b[0;34m)\u001b[0m\u001b[0;34m:\u001b[0m\u001b[0;34m\u001b[0m\u001b[0;34m\u001b[0m\u001b[0m\n",
      "\u001b[0;32m~/anaconda3/lib/python3.6/site-packages/catboost/core.py\u001b[0m in \u001b[0;36m__init__\u001b[0;34m(self, data, label, cat_features, column_description, pairs, delimiter, has_header, weight, group_id, group_weight, subgroup_id, pairs_weight, baseline, feature_names, thread_count)\u001b[0m\n\u001b[1;32m    284\u001b[0m                         )\n\u001b[1;32m    285\u001b[0m \u001b[0;34m\u001b[0m\u001b[0m\n\u001b[0;32m--> 286\u001b[0;31m                 \u001b[0mself\u001b[0m\u001b[0;34m.\u001b[0m\u001b[0m_init\u001b[0m\u001b[0;34m(\u001b[0m\u001b[0mdata\u001b[0m\u001b[0;34m,\u001b[0m \u001b[0mlabel\u001b[0m\u001b[0;34m,\u001b[0m \u001b[0mcat_features\u001b[0m\u001b[0;34m,\u001b[0m \u001b[0mpairs\u001b[0m\u001b[0;34m,\u001b[0m \u001b[0mweight\u001b[0m\u001b[0;34m,\u001b[0m \u001b[0mgroup_id\u001b[0m\u001b[0;34m,\u001b[0m \u001b[0mgroup_weight\u001b[0m\u001b[0;34m,\u001b[0m \u001b[0msubgroup_id\u001b[0m\u001b[0;34m,\u001b[0m \u001b[0mpairs_weight\u001b[0m\u001b[0;34m,\u001b[0m \u001b[0mbaseline\u001b[0m\u001b[0;34m,\u001b[0m \u001b[0mfeature_names\u001b[0m\u001b[0;34m)\u001b[0m\u001b[0;34m\u001b[0m\u001b[0;34m\u001b[0m\u001b[0m\n\u001b[0m\u001b[1;32m    287\u001b[0m         \u001b[0msuper\u001b[0m\u001b[0;34m(\u001b[0m\u001b[0mPool\u001b[0m\u001b[0;34m,\u001b[0m \u001b[0mself\u001b[0m\u001b[0;34m)\u001b[0m\u001b[0;34m.\u001b[0m\u001b[0m__init__\u001b[0m\u001b[0;34m(\u001b[0m\u001b[0;34m)\u001b[0m\u001b[0;34m\u001b[0m\u001b[0;34m\u001b[0m\u001b[0m\n\u001b[1;32m    288\u001b[0m \u001b[0;34m\u001b[0m\u001b[0m\n",
      "\u001b[0;32m~/anaconda3/lib/python3.6/site-packages/catboost/core.py\u001b[0m in \u001b[0;36m_init\u001b[0;34m(self, data, label, cat_features, pairs, weight, group_id, group_weight, subgroup_id, pairs_weight, baseline, feature_names)\u001b[0m\n\u001b[1;32m    634\u001b[0m         \u001b[0;32mif\u001b[0m \u001b[0mfeature_names\u001b[0m \u001b[0;32mis\u001b[0m \u001b[0;32mnot\u001b[0m \u001b[0;32mNone\u001b[0m\u001b[0;34m:\u001b[0m\u001b[0;34m\u001b[0m\u001b[0;34m\u001b[0m\u001b[0m\n\u001b[1;32m    635\u001b[0m             \u001b[0mself\u001b[0m\u001b[0;34m.\u001b[0m\u001b[0m_check_feature_names\u001b[0m\u001b[0;34m(\u001b[0m\u001b[0mfeature_names\u001b[0m\u001b[0;34m,\u001b[0m \u001b[0mfeatures_count\u001b[0m\u001b[0;34m)\u001b[0m\u001b[0;34m\u001b[0m\u001b[0;34m\u001b[0m\u001b[0m\n\u001b[0;32m--> 636\u001b[0;31m         \u001b[0mself\u001b[0m\u001b[0;34m.\u001b[0m\u001b[0m_init_pool\u001b[0m\u001b[0;34m(\u001b[0m\u001b[0mdata\u001b[0m\u001b[0;34m,\u001b[0m \u001b[0mlabel\u001b[0m\u001b[0;34m,\u001b[0m \u001b[0mcat_features\u001b[0m\u001b[0;34m,\u001b[0m \u001b[0mpairs\u001b[0m\u001b[0;34m,\u001b[0m \u001b[0mweight\u001b[0m\u001b[0;34m,\u001b[0m \u001b[0mgroup_id\u001b[0m\u001b[0;34m,\u001b[0m \u001b[0mgroup_weight\u001b[0m\u001b[0;34m,\u001b[0m \u001b[0msubgroup_id\u001b[0m\u001b[0;34m,\u001b[0m \u001b[0mpairs_weight\u001b[0m\u001b[0;34m,\u001b[0m \u001b[0mbaseline\u001b[0m\u001b[0;34m,\u001b[0m \u001b[0mfeature_names\u001b[0m\u001b[0;34m)\u001b[0m\u001b[0;34m\u001b[0m\u001b[0;34m\u001b[0m\u001b[0m\n\u001b[0m\u001b[1;32m    637\u001b[0m \u001b[0;34m\u001b[0m\u001b[0m\n\u001b[1;32m    638\u001b[0m \u001b[0;34m\u001b[0m\u001b[0m\n",
      "\u001b[0;32m_catboost.pyx\u001b[0m in \u001b[0;36m_catboost._PoolBase._init_pool\u001b[0;34m()\u001b[0m\n",
      "\u001b[0;32m_catboost.pyx\u001b[0m in \u001b[0;36m_catboost._PoolBase._init_pool\u001b[0;34m()\u001b[0m\n",
      "\u001b[0;32m_catboost.pyx\u001b[0m in \u001b[0;36m_catboost._PoolBase._init_features_order_layout_pool\u001b[0;34m()\u001b[0m\n",
      "\u001b[0;32m_catboost.pyx\u001b[0m in \u001b[0;36m_catboost._set_features_order_data_pd_data_frame\u001b[0;34m()\u001b[0m\n",
      "\u001b[0;32m_catboost.pyx\u001b[0m in \u001b[0;36m_catboost.get_cat_factor_bytes_representation\u001b[0;34m()\u001b[0m\n",
      "\u001b[0;31mCatboostError\u001b[0m: Invalid type for cat_feature[8,0]=496.5 : cat_features must be integer or string, real number values and NaN values should be converted to string."
     ]
    }
   ],
   "source": [
    "xgb_weights = np.linspace(0, 1, 20)\n",
    "scores = []\n",
    "for i, xgb_weight in enumerate(xgb_weights):\n",
    "    for j, cat_weight in enumerate(np.linspace(0, xgb_weight, 10)):\n",
    "        av_model = AveragingModel([xgb_model, gbm_model, cat_model], \n",
    "                                  pretrained=True,\n",
    "                                 weights=(xgb_weight, 1-xgb_weight-cat_weight, cat_weight))\n",
    "        score = rmse(Y_valid, av_model.predict(X_valid))\n",
    "        scores.append(score)\n",
    "        print('score:', score)\n",
    "rmse(Y_valid_, av_model.predict(X_valid_))"
   ]
  },
  {
   "cell_type": "markdown",
   "metadata": {},
   "source": [
    "## Submit"
   ]
  },
  {
   "cell_type": "code",
   "execution_count": 85,
   "metadata": {},
   "outputs": [],
   "source": [
    "X_test = X[~X.isTrain][columns]"
   ]
  },
  {
   "cell_type": "code",
   "execution_count": 86,
   "metadata": {},
   "outputs": [],
   "source": [
    "submit = pd.DataFrame(av_model.predict(X_test), index=test.index,columns=['target'])"
   ]
  },
  {
   "cell_type": "code",
   "execution_count": 87,
   "metadata": {},
   "outputs": [],
   "source": [
    "submit.to_csv('submit.csv')"
   ]
  }
 ],
 "metadata": {
  "kernelspec": {
   "display_name": "Python 3",
   "language": "python",
   "name": "python3"
  },
  "language_info": {
   "codemirror_mode": {
    "name": "ipython",
    "version": 3
   },
   "file_extension": ".py",
   "mimetype": "text/x-python",
   "name": "python",
   "nbconvert_exporter": "python",
   "pygments_lexer": "ipython3",
   "version": "3.6.7"
  }
 },
 "nbformat": 4,
 "nbformat_minor": 2
}
